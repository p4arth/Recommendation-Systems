{
  "nbformat": 4,
  "nbformat_minor": 0,
  "metadata": {
    "colab": {
      "name": "ZomatoReccomendationSystem.ipynb",
      "provenance": [],
      "mount_file_id": "1IrRlv9u_fZSB4znWiHGwRZGGakufM3hp",
      "authorship_tag": "ABX9TyPRsz9l9exnd0L939JADuEn",
      "include_colab_link": true
    },
    "kernelspec": {
      "name": "python3",
      "display_name": "Python 3"
    },
    "language_info": {
      "name": "python"
    }
  },
  "cells": [
    {
      "cell_type": "markdown",
      "metadata": {
        "id": "view-in-github",
        "colab_type": "text"
      },
      "source": [
        "<a href=\"https://colab.research.google.com/github/p4arth/Recommendation-Systems-Learning/blob/main/ZomatoReccomendationSystem.ipynb\" target=\"_parent\"><img src=\"https://colab.research.google.com/assets/colab-badge.svg\" alt=\"Open In Colab\"/></a>"
      ]
    },
    {
      "cell_type": "code",
      "metadata": {
        "id": "JAYvUl9JtUsw"
      },
      "source": [
        "import pandas as pd \n",
        "import numpy as np"
      ],
      "execution_count": 14,
      "outputs": []
    },
    {
      "cell_type": "code",
      "metadata": {
        "id": "aF7qGOw3tmpW"
      },
      "source": [
        "rest = pd.read_csv('/content/drive/MyDrive/DelhiNCR Restaurants.csv')"
      ],
      "execution_count": 15,
      "outputs": []
    },
    {
      "cell_type": "code",
      "metadata": {
        "colab": {
          "base_uri": "https://localhost:8080/",
          "height": 605
        },
        "id": "KEsEG_nft6aH",
        "outputId": "71eb29be-6558-4288-c773-27df236b0749"
      },
      "source": [
        "rest.head()"
      ],
      "execution_count": 16,
      "outputs": [
        {
          "output_type": "execute_result",
          "data": {
            "text/html": [
              "<div>\n",
              "<style scoped>\n",
              "    .dataframe tbody tr th:only-of-type {\n",
              "        vertical-align: middle;\n",
              "    }\n",
              "\n",
              "    .dataframe tbody tr th {\n",
              "        vertical-align: top;\n",
              "    }\n",
              "\n",
              "    .dataframe thead th {\n",
              "        text-align: right;\n",
              "    }\n",
              "</style>\n",
              "<table border=\"1\" class=\"dataframe\">\n",
              "  <thead>\n",
              "    <tr style=\"text-align: right;\">\n",
              "      <th></th>\n",
              "      <th>Restaurant_Name</th>\n",
              "      <th>Category</th>\n",
              "      <th>Pricing_for_2</th>\n",
              "      <th>Locality</th>\n",
              "      <th>Dining_Rating</th>\n",
              "      <th>Dining_Review_Count</th>\n",
              "      <th>Delivery_Rating</th>\n",
              "      <th>Delivery_Rating_Count</th>\n",
              "      <th>Website</th>\n",
              "      <th>Address</th>\n",
              "      <th>Phone_No</th>\n",
              "      <th>Latitude</th>\n",
              "      <th>Longitude</th>\n",
              "      <th>Known_For2</th>\n",
              "      <th>Known_For22</th>\n",
              "    </tr>\n",
              "  </thead>\n",
              "  <tbody>\n",
              "    <tr>\n",
              "      <th>0</th>\n",
              "      <td>Rustom's</td>\n",
              "      <td>Parsi, Street Food, North Indian, Desserts, Be...</td>\n",
              "      <td>2100</td>\n",
              "      <td>ITO, New Delhi</td>\n",
              "      <td>4.9</td>\n",
              "      <td>1885</td>\n",
              "      <td>4.4</td>\n",
              "      <td>1844</td>\n",
              "      <td>https://www.zomato.com/ncr/rustoms-ito-new-delhi</td>\n",
              "      <td>Delhi Parsi Anjuman, LNJP Colony, Bahadur Shah...</td>\n",
              "      <td>9.1991E+11</td>\n",
              "      <td>28.638167</td>\n",
              "      <td>77.240472</td>\n",
              "      <td>NaN</td>\n",
              "      <td>NaN</td>\n",
              "    </tr>\n",
              "    <tr>\n",
              "      <th>1</th>\n",
              "      <td>Cafe Lota</td>\n",
              "      <td>Cafe, South Indian, North Indian, Beverages</td>\n",
              "      <td>1200</td>\n",
              "      <td>Pragati Maidan, New Delhi</td>\n",
              "      <td>4.9</td>\n",
              "      <td>3748</td>\n",
              "      <td>3.9</td>\n",
              "      <td>37</td>\n",
              "      <td>https://www.zomato.com/ncr/cafe-lota-pragati-m...</td>\n",
              "      <td>National Crafts Museum, Gate 2, Bhairon Marg, ...</td>\n",
              "      <td>9.17839E+11</td>\n",
              "      <td>28.613429</td>\n",
              "      <td>77.242471</td>\n",
              "      <td>Pondicherry Fish Curry, Coconut Rabdi, Sabudan...</td>\n",
              "      <td>Artistic Decor, The Service, Natural Ambience,...</td>\n",
              "    </tr>\n",
              "    <tr>\n",
              "      <th>2</th>\n",
              "      <td>Dum-Pukht - ITC Maurya</td>\n",
              "      <td>Mughlai, North Indian, Desserts</td>\n",
              "      <td>5000</td>\n",
              "      <td>ITC Maurya, Chanakyapuri, New Delhi</td>\n",
              "      <td>4.9</td>\n",
              "      <td>1371</td>\n",
              "      <td>NaN</td>\n",
              "      <td>0</td>\n",
              "      <td>https://www.zomato.com/ncr/dum-pukht-itc-maury...</td>\n",
              "      <td>ITC Maurya, Chanakyapuri, New Delhi</td>\n",
              "      <td>9.11146E+11</td>\n",
              "      <td>28.598200</td>\n",
              "      <td>77.173661</td>\n",
              "      <td>Royal ambiance and Mughlai cuisine, also recei...</td>\n",
              "      <td>NaN</td>\n",
              "    </tr>\n",
              "    <tr>\n",
              "      <th>3</th>\n",
              "      <td>Burma Burma</td>\n",
              "      <td>Asian, Burmese, Bubble Tea, Desserts, Salad</td>\n",
              "      <td>1600</td>\n",
              "      <td>Cyber Hub, DLF Cyber City, Gurgaon</td>\n",
              "      <td>4.9</td>\n",
              "      <td>2636</td>\n",
              "      <td>4.4</td>\n",
              "      <td>1238</td>\n",
              "      <td>https://www.zomato.com/ncr/burma-burma-dlf-cyb...</td>\n",
              "      <td>Shop 6, Ground Floor, Building 8, Tower C, Cyb...</td>\n",
              "      <td>9.11244E+11</td>\n",
              "      <td>28.494464</td>\n",
              "      <td>77.088532</td>\n",
              "      <td>Coconut Milk Dessert, Honey Caviar, Kaffir Lim...</td>\n",
              "      <td>Knowledgeable Staff, Authentic, Soothing Ambie...</td>\n",
              "    </tr>\n",
              "    <tr>\n",
              "      <th>4</th>\n",
              "      <td>The Big Chill</td>\n",
              "      <td>Continental, American, Italian</td>\n",
              "      <td>1500</td>\n",
              "      <td>Khan Market, New Delhi</td>\n",
              "      <td>4.9</td>\n",
              "      <td>6487</td>\n",
              "      <td>NaN</td>\n",
              "      <td>0</td>\n",
              "      <td>https://www.zomato.com/ncr/the-big-chill-khan-...</td>\n",
              "      <td>68-A, Khan Market, New Delhi</td>\n",
              "      <td>9.11142E+11</td>\n",
              "      <td>28.600350</td>\n",
              "      <td>77.227493</td>\n",
              "      <td>Irish Cream Tiramisu, Penne Vodka, Mississippi...</td>\n",
              "      <td>Retro Ambience, Yummy Desserts, Big Portions, ...</td>\n",
              "    </tr>\n",
              "  </tbody>\n",
              "</table>\n",
              "</div>"
            ],
            "text/plain": [
              "          Restaurant_Name  ...                                        Known_For22\n",
              "0                Rustom's  ...                                                NaN\n",
              "1               Cafe Lota  ...  Artistic Decor, The Service, Natural Ambience,...\n",
              "2  Dum-Pukht - ITC Maurya  ...                                                NaN\n",
              "3             Burma Burma  ...  Knowledgeable Staff, Authentic, Soothing Ambie...\n",
              "4           The Big Chill  ...  Retro Ambience, Yummy Desserts, Big Portions, ...\n",
              "\n",
              "[5 rows x 15 columns]"
            ]
          },
          "metadata": {},
          "execution_count": 16
        }
      ]
    },
    {
      "cell_type": "code",
      "metadata": {
        "id": "V1JhVcspt8ic"
      },
      "source": [
        "rest.drop(['Pricing_for_2','Locality', 'Website', 'Address', 'Phone_No', 'Latitude', 'Longitude', 'Known_For22'], axis =1, inplace=True)"
      ],
      "execution_count": 17,
      "outputs": []
    },
    {
      "cell_type": "code",
      "metadata": {
        "colab": {
          "base_uri": "https://localhost:8080/",
          "height": 252
        },
        "id": "YwD5hwgVuiQV",
        "outputId": "28f11976-95cc-4708-eb94-71f5fa5689f6"
      },
      "source": [
        "rest.head()"
      ],
      "execution_count": 18,
      "outputs": [
        {
          "output_type": "execute_result",
          "data": {
            "text/html": [
              "<div>\n",
              "<style scoped>\n",
              "    .dataframe tbody tr th:only-of-type {\n",
              "        vertical-align: middle;\n",
              "    }\n",
              "\n",
              "    .dataframe tbody tr th {\n",
              "        vertical-align: top;\n",
              "    }\n",
              "\n",
              "    .dataframe thead th {\n",
              "        text-align: right;\n",
              "    }\n",
              "</style>\n",
              "<table border=\"1\" class=\"dataframe\">\n",
              "  <thead>\n",
              "    <tr style=\"text-align: right;\">\n",
              "      <th></th>\n",
              "      <th>Restaurant_Name</th>\n",
              "      <th>Category</th>\n",
              "      <th>Dining_Rating</th>\n",
              "      <th>Dining_Review_Count</th>\n",
              "      <th>Delivery_Rating</th>\n",
              "      <th>Delivery_Rating_Count</th>\n",
              "      <th>Known_For2</th>\n",
              "    </tr>\n",
              "  </thead>\n",
              "  <tbody>\n",
              "    <tr>\n",
              "      <th>0</th>\n",
              "      <td>Rustom's</td>\n",
              "      <td>Parsi, Street Food, North Indian, Desserts, Be...</td>\n",
              "      <td>4.9</td>\n",
              "      <td>1885</td>\n",
              "      <td>4.4</td>\n",
              "      <td>1844</td>\n",
              "      <td>NaN</td>\n",
              "    </tr>\n",
              "    <tr>\n",
              "      <th>1</th>\n",
              "      <td>Cafe Lota</td>\n",
              "      <td>Cafe, South Indian, North Indian, Beverages</td>\n",
              "      <td>4.9</td>\n",
              "      <td>3748</td>\n",
              "      <td>3.9</td>\n",
              "      <td>37</td>\n",
              "      <td>Pondicherry Fish Curry, Coconut Rabdi, Sabudan...</td>\n",
              "    </tr>\n",
              "    <tr>\n",
              "      <th>2</th>\n",
              "      <td>Dum-Pukht - ITC Maurya</td>\n",
              "      <td>Mughlai, North Indian, Desserts</td>\n",
              "      <td>4.9</td>\n",
              "      <td>1371</td>\n",
              "      <td>NaN</td>\n",
              "      <td>0</td>\n",
              "      <td>Royal ambiance and Mughlai cuisine, also recei...</td>\n",
              "    </tr>\n",
              "    <tr>\n",
              "      <th>3</th>\n",
              "      <td>Burma Burma</td>\n",
              "      <td>Asian, Burmese, Bubble Tea, Desserts, Salad</td>\n",
              "      <td>4.9</td>\n",
              "      <td>2636</td>\n",
              "      <td>4.4</td>\n",
              "      <td>1238</td>\n",
              "      <td>Coconut Milk Dessert, Honey Caviar, Kaffir Lim...</td>\n",
              "    </tr>\n",
              "    <tr>\n",
              "      <th>4</th>\n",
              "      <td>The Big Chill</td>\n",
              "      <td>Continental, American, Italian</td>\n",
              "      <td>4.9</td>\n",
              "      <td>6487</td>\n",
              "      <td>NaN</td>\n",
              "      <td>0</td>\n",
              "      <td>Irish Cream Tiramisu, Penne Vodka, Mississippi...</td>\n",
              "    </tr>\n",
              "  </tbody>\n",
              "</table>\n",
              "</div>"
            ],
            "text/plain": [
              "          Restaurant_Name  ...                                         Known_For2\n",
              "0                Rustom's  ...                                                NaN\n",
              "1               Cafe Lota  ...  Pondicherry Fish Curry, Coconut Rabdi, Sabudan...\n",
              "2  Dum-Pukht - ITC Maurya  ...  Royal ambiance and Mughlai cuisine, also recei...\n",
              "3             Burma Burma  ...  Coconut Milk Dessert, Honey Caviar, Kaffir Lim...\n",
              "4           The Big Chill  ...  Irish Cream Tiramisu, Penne Vodka, Mississippi...\n",
              "\n",
              "[5 rows x 7 columns]"
            ]
          },
          "metadata": {},
          "execution_count": 18
        }
      ]
    },
    {
      "cell_type": "code",
      "metadata": {
        "colab": {
          "base_uri": "https://localhost:8080/"
        },
        "id": "ihiNL-AOumMk",
        "outputId": "5ad3fb70-ae08-4710-8c71-9072d44ad2e6"
      },
      "source": [
        "rest.shape"
      ],
      "execution_count": 19,
      "outputs": [
        {
          "output_type": "execute_result",
          "data": {
            "text/plain": [
              "(1965, 7)"
            ]
          },
          "metadata": {},
          "execution_count": 19
        }
      ]
    },
    {
      "cell_type": "code",
      "metadata": {
        "colab": {
          "base_uri": "https://localhost:8080/"
        },
        "id": "7-N4qwHRupyE",
        "outputId": "61de68d6-2146-4779-debc-b465a4a9a780"
      },
      "source": [
        "rest.info()"
      ],
      "execution_count": 20,
      "outputs": [
        {
          "output_type": "stream",
          "name": "stdout",
          "text": [
            "<class 'pandas.core.frame.DataFrame'>\n",
            "RangeIndex: 1965 entries, 0 to 1964\n",
            "Data columns (total 7 columns):\n",
            " #   Column                 Non-Null Count  Dtype  \n",
            "---  ------                 --------------  -----  \n",
            " 0   Restaurant_Name        1965 non-null   object \n",
            " 1   Category               1965 non-null   object \n",
            " 2   Dining_Rating          1965 non-null   float64\n",
            " 3   Dining_Review_Count    1965 non-null   int64  \n",
            " 4   Delivery_Rating        1563 non-null   float64\n",
            " 5   Delivery_Rating_Count  1965 non-null   int64  \n",
            " 6   Known_For2             1560 non-null   object \n",
            "dtypes: float64(2), int64(2), object(3)\n",
            "memory usage: 107.6+ KB\n"
          ]
        }
      ]
    },
    {
      "cell_type": "code",
      "metadata": {
        "id": "KxUTtjhguwPx"
      },
      "source": [
        "rest['Delivery_Rating'] = rest['Delivery_Rating'].fillna(0)\n",
        "rest['Known_For2'] = rest['Known_For2'].fillna('')"
      ],
      "execution_count": 21,
      "outputs": []
    },
    {
      "cell_type": "code",
      "metadata": {
        "colab": {
          "base_uri": "https://localhost:8080/",
          "height": 252
        },
        "id": "aQNUEsWMvQl1",
        "outputId": "6bd9a172-887d-43f9-976f-71ce23b62604"
      },
      "source": [
        "rest.head()"
      ],
      "execution_count": 22,
      "outputs": [
        {
          "output_type": "execute_result",
          "data": {
            "text/html": [
              "<div>\n",
              "<style scoped>\n",
              "    .dataframe tbody tr th:only-of-type {\n",
              "        vertical-align: middle;\n",
              "    }\n",
              "\n",
              "    .dataframe tbody tr th {\n",
              "        vertical-align: top;\n",
              "    }\n",
              "\n",
              "    .dataframe thead th {\n",
              "        text-align: right;\n",
              "    }\n",
              "</style>\n",
              "<table border=\"1\" class=\"dataframe\">\n",
              "  <thead>\n",
              "    <tr style=\"text-align: right;\">\n",
              "      <th></th>\n",
              "      <th>Restaurant_Name</th>\n",
              "      <th>Category</th>\n",
              "      <th>Dining_Rating</th>\n",
              "      <th>Dining_Review_Count</th>\n",
              "      <th>Delivery_Rating</th>\n",
              "      <th>Delivery_Rating_Count</th>\n",
              "      <th>Known_For2</th>\n",
              "    </tr>\n",
              "  </thead>\n",
              "  <tbody>\n",
              "    <tr>\n",
              "      <th>0</th>\n",
              "      <td>Rustom's</td>\n",
              "      <td>Parsi, Street Food, North Indian, Desserts, Be...</td>\n",
              "      <td>4.9</td>\n",
              "      <td>1885</td>\n",
              "      <td>4.4</td>\n",
              "      <td>1844</td>\n",
              "      <td></td>\n",
              "    </tr>\n",
              "    <tr>\n",
              "      <th>1</th>\n",
              "      <td>Cafe Lota</td>\n",
              "      <td>Cafe, South Indian, North Indian, Beverages</td>\n",
              "      <td>4.9</td>\n",
              "      <td>3748</td>\n",
              "      <td>3.9</td>\n",
              "      <td>37</td>\n",
              "      <td>Pondicherry Fish Curry, Coconut Rabdi, Sabudan...</td>\n",
              "    </tr>\n",
              "    <tr>\n",
              "      <th>2</th>\n",
              "      <td>Dum-Pukht - ITC Maurya</td>\n",
              "      <td>Mughlai, North Indian, Desserts</td>\n",
              "      <td>4.9</td>\n",
              "      <td>1371</td>\n",
              "      <td>0.0</td>\n",
              "      <td>0</td>\n",
              "      <td>Royal ambiance and Mughlai cuisine, also recei...</td>\n",
              "    </tr>\n",
              "    <tr>\n",
              "      <th>3</th>\n",
              "      <td>Burma Burma</td>\n",
              "      <td>Asian, Burmese, Bubble Tea, Desserts, Salad</td>\n",
              "      <td>4.9</td>\n",
              "      <td>2636</td>\n",
              "      <td>4.4</td>\n",
              "      <td>1238</td>\n",
              "      <td>Coconut Milk Dessert, Honey Caviar, Kaffir Lim...</td>\n",
              "    </tr>\n",
              "    <tr>\n",
              "      <th>4</th>\n",
              "      <td>The Big Chill</td>\n",
              "      <td>Continental, American, Italian</td>\n",
              "      <td>4.9</td>\n",
              "      <td>6487</td>\n",
              "      <td>0.0</td>\n",
              "      <td>0</td>\n",
              "      <td>Irish Cream Tiramisu, Penne Vodka, Mississippi...</td>\n",
              "    </tr>\n",
              "  </tbody>\n",
              "</table>\n",
              "</div>"
            ],
            "text/plain": [
              "          Restaurant_Name  ...                                         Known_For2\n",
              "0                Rustom's  ...                                                   \n",
              "1               Cafe Lota  ...  Pondicherry Fish Curry, Coconut Rabdi, Sabudan...\n",
              "2  Dum-Pukht - ITC Maurya  ...  Royal ambiance and Mughlai cuisine, also recei...\n",
              "3             Burma Burma  ...  Coconut Milk Dessert, Honey Caviar, Kaffir Lim...\n",
              "4           The Big Chill  ...  Irish Cream Tiramisu, Penne Vodka, Mississippi...\n",
              "\n",
              "[5 rows x 7 columns]"
            ]
          },
          "metadata": {},
          "execution_count": 22
        }
      ]
    },
    {
      "cell_type": "code",
      "metadata": {
        "colab": {
          "base_uri": "https://localhost:8080/"
        },
        "id": "kw6Go2dZvdW6",
        "outputId": "24a9250a-3d3e-421c-be5e-d79618303e12"
      },
      "source": [
        "rest.head(2)['Known_For2']"
      ],
      "execution_count": 24,
      "outputs": [
        {
          "output_type": "execute_result",
          "data": {
            "text/plain": [
              "0                                                     \n",
              "1    Pondicherry Fish Curry, Coconut Rabdi, Sabudan...\n",
              "Name: Known_For2, dtype: object"
            ]
          },
          "metadata": {},
          "execution_count": 24
        }
      ]
    },
    {
      "cell_type": "code",
      "metadata": {
        "id": "ioKpdapYvoYT"
      },
      "source": [
        "from sklearn.feature_extraction.text import TfidfVectorizer\n",
        "tfv = TfidfVectorizer(min_df = 4, max_features=None,\n",
        "                      strip_accents='unicode',analyzer='word',token_pattern='(?u)\\\\b\\\\w+\\\\b',\n",
        "                      ngram_range=(1,3),\n",
        "                      stop_words = 'english')"
      ],
      "execution_count": 35,
      "outputs": []
    },
    {
      "cell_type": "code",
      "metadata": {
        "id": "nh5gn2nbvt6B"
      },
      "source": [
        "tfv_matrix = tfv.fit_transform(rest['Known_For2'])"
      ],
      "execution_count": 37,
      "outputs": []
    },
    {
      "cell_type": "code",
      "metadata": {
        "colab": {
          "base_uri": "https://localhost:8080/"
        },
        "id": "bAYH6PUyxFHD",
        "outputId": "6a9dd80f-6947-46fb-89ec-809015cb7eed"
      },
      "source": [
        "tfv_matrix"
      ],
      "execution_count": 38,
      "outputs": [
        {
          "output_type": "execute_result",
          "data": {
            "text/plain": [
              "<1965x1581 sparse matrix of type '<class 'numpy.float64'>'\n",
              "\twith 21977 stored elements in Compressed Sparse Row format>"
            ]
          },
          "metadata": {},
          "execution_count": 38
        }
      ]
    },
    {
      "cell_type": "code",
      "metadata": {
        "colab": {
          "base_uri": "https://localhost:8080/"
        },
        "id": "IsbF_oxV0hnK",
        "outputId": "66ac1869-7881-4b44-8afa-85f4c390b62f"
      },
      "source": [
        "tfv_matrix.shape"
      ],
      "execution_count": 47,
      "outputs": [
        {
          "output_type": "execute_result",
          "data": {
            "text/plain": [
              "(1965, 1581)"
            ]
          },
          "metadata": {},
          "execution_count": 47
        }
      ]
    },
    {
      "cell_type": "code",
      "metadata": {
        "id": "YhGGerlMxHHt"
      },
      "source": [
        "from sklearn.metrics.pairwise import sigmoid_kernel\n",
        "sig = sigmoid_kernel(tfv_matrix, tfv_matrix)"
      ],
      "execution_count": 39,
      "outputs": []
    },
    {
      "cell_type": "code",
      "metadata": {
        "id": "unu-VATfxMNt"
      },
      "source": [
        "indices = pd.Series(rest.index, index=rest['Restaurant_Name']).drop_duplicates()"
      ],
      "execution_count": 41,
      "outputs": []
    },
    {
      "cell_type": "code",
      "metadata": {
        "colab": {
          "base_uri": "https://localhost:8080/"
        },
        "id": "OWr7zokIxZ0E",
        "outputId": "cb43cf42-8830-454a-8de1-3fa3937a3f0f"
      },
      "source": [
        "indices"
      ],
      "execution_count": 42,
      "outputs": [
        {
          "output_type": "execute_result",
          "data": {
            "text/plain": [
              "Restaurant_Name\n",
              "Rustom's                     0\n",
              "Cafe Lota                    1\n",
              "Dum-Pukht - ITC Maurya       2\n",
              "Burma Burma                  3\n",
              "The Big Chill                4\n",
              "                          ... \n",
              "Bablu Chic-Inn            1960\n",
              "Kovilakam                 1961\n",
              "Krips Restaurant          1962\n",
              "Cafe 147                  1963\n",
              "Pizzasia                  1964\n",
              "Length: 1965, dtype: int64"
            ]
          },
          "metadata": {},
          "execution_count": 42
        }
      ]
    },
    {
      "cell_type": "code",
      "metadata": {
        "id": "SG3DrbAixclX"
      },
      "source": [
        "def give_rec(restaurant, sig=sig):\n",
        "    # Get the index corresponding to original_title\n",
        "    idx = indices[restaurant]\n",
        "\n",
        "    # Get the pairwsie similarity scores \n",
        "    sig_scores = list(enumerate(sig[idx]))\n",
        "\n",
        "    # Sort the movies \n",
        "    sig_scores = sorted(sig_scores, key=lambda x: x[1], reverse=True)\n",
        "\n",
        "    # Scores of the 10 most similar movies\n",
        "    sig_scores = sig_scores[1:11]\n",
        "\n",
        "    # Movie indices\n",
        "    rest_indices = [i[0] for i in sig_scores]\n",
        "\n",
        "    # Top 10 most similar movies\n",
        "    return rest['Restaurant_Name'].iloc[rest_indices]"
      ],
      "execution_count": 48,
      "outputs": []
    },
    {
      "cell_type": "code",
      "metadata": {
        "colab": {
          "base_uri": "https://localhost:8080/"
        },
        "id": "QzHXewNUxw5-",
        "outputId": "8467dcd2-1525-42d4-d615-66f045810137"
      },
      "source": [
        "giv_rec(\"Glued Reloaded\")"
      ],
      "execution_count": 50,
      "outputs": [
        {
          "output_type": "execute_result",
          "data": {
            "text/plain": [
              "1963                              Cafe 147\n",
              "1962                      Krips Restaurant\n",
              "1961                             Kovilakam\n",
              "1960                        Bablu Chic-Inn\n",
              "1959                             Cocoberry\n",
              "1958                        Glued Reloaded\n",
              "1957       Ricks Bar - The Taj Mahal Hotel\n",
              "1956                           Playboy Tap\n",
              "1955                         Chilli Dragon\n",
              "1954    Grills & Platters By Pind Balluchi\n",
              "Name: Restaurant_Name, dtype: object"
            ]
          },
          "metadata": {},
          "execution_count": 50
        }
      ]
    }
  ]
}