{
  "nbformat": 4,
  "nbformat_minor": 0,
  "metadata": {
    "colab": {
      "name": "ZomatoReccomendationSystem.ipynb",
      "provenance": [],
      "mount_file_id": "1IrRlv9u_fZSB4znWiHGwRZGGakufM3hp",
      "authorship_tag": "ABX9TyNU6FnS4nXn3/HjiT7T34+b",
      "include_colab_link": true
    },
    "kernelspec": {
      "name": "python3",
      "display_name": "Python 3"
    },
    "language_info": {
      "name": "python"
    }
  },
  "cells": [
    {
      "cell_type": "markdown",
      "metadata": {
        "id": "view-in-github",
        "colab_type": "text"
      },
      "source": [
        "<a href=\"https://colab.research.google.com/github/p4arth/Recommendation-Systems-Learning/blob/main/ZomatoReccomendationSystem.ipynb\" target=\"_parent\"><img src=\"https://colab.research.google.com/assets/colab-badge.svg\" alt=\"Open In Colab\"/></a>"
      ]
    },
    {
      "cell_type": "code",
      "metadata": {
        "id": "JAYvUl9JtUsw"
      },
      "source": [
        "import pandas as pd \n",
        "import numpy as np"
      ],
      "execution_count": 1,
      "outputs": []
    },
    {
      "cell_type": "code",
      "metadata": {
        "id": "aF7qGOw3tmpW"
      },
      "source": [
        "rest = pd.read_csv('/content/drive/MyDrive/DelhiNCR Restaurants.csv')"
      ],
      "execution_count": 2,
      "outputs": []
    },
    {
      "cell_type": "code",
      "metadata": {
        "colab": {
          "base_uri": "https://localhost:8080/",
          "height": 605
        },
        "id": "KEsEG_nft6aH",
        "outputId": "a69fb50d-fec5-4dac-b541-a4adc344b96f"
      },
      "source": [
        "rest.head()"
      ],
      "execution_count": 3,
      "outputs": [
        {
          "output_type": "execute_result",
          "data": {
            "text/html": [
              "<div>\n",
              "<style scoped>\n",
              "    .dataframe tbody tr th:only-of-type {\n",
              "        vertical-align: middle;\n",
              "    }\n",
              "\n",
              "    .dataframe tbody tr th {\n",
              "        vertical-align: top;\n",
              "    }\n",
              "\n",
              "    .dataframe thead th {\n",
              "        text-align: right;\n",
              "    }\n",
              "</style>\n",
              "<table border=\"1\" class=\"dataframe\">\n",
              "  <thead>\n",
              "    <tr style=\"text-align: right;\">\n",
              "      <th></th>\n",
              "      <th>Restaurant_Name</th>\n",
              "      <th>Category</th>\n",
              "      <th>Pricing_for_2</th>\n",
              "      <th>Locality</th>\n",
              "      <th>Dining_Rating</th>\n",
              "      <th>Dining_Review_Count</th>\n",
              "      <th>Delivery_Rating</th>\n",
              "      <th>Delivery_Rating_Count</th>\n",
              "      <th>Website</th>\n",
              "      <th>Address</th>\n",
              "      <th>Phone_No</th>\n",
              "      <th>Latitude</th>\n",
              "      <th>Longitude</th>\n",
              "      <th>Known_For2</th>\n",
              "      <th>Known_For22</th>\n",
              "    </tr>\n",
              "  </thead>\n",
              "  <tbody>\n",
              "    <tr>\n",
              "      <th>0</th>\n",
              "      <td>Rustom's</td>\n",
              "      <td>Parsi, Street Food, North Indian, Desserts, Be...</td>\n",
              "      <td>2100</td>\n",
              "      <td>ITO, New Delhi</td>\n",
              "      <td>4.9</td>\n",
              "      <td>1885</td>\n",
              "      <td>4.4</td>\n",
              "      <td>1844</td>\n",
              "      <td>https://www.zomato.com/ncr/rustoms-ito-new-delhi</td>\n",
              "      <td>Delhi Parsi Anjuman, LNJP Colony, Bahadur Shah...</td>\n",
              "      <td>9.1991E+11</td>\n",
              "      <td>28.638167</td>\n",
              "      <td>77.240472</td>\n",
              "      <td>NaN</td>\n",
              "      <td>NaN</td>\n",
              "    </tr>\n",
              "    <tr>\n",
              "      <th>1</th>\n",
              "      <td>Cafe Lota</td>\n",
              "      <td>Cafe, South Indian, North Indian, Beverages</td>\n",
              "      <td>1200</td>\n",
              "      <td>Pragati Maidan, New Delhi</td>\n",
              "      <td>4.9</td>\n",
              "      <td>3748</td>\n",
              "      <td>3.9</td>\n",
              "      <td>37</td>\n",
              "      <td>https://www.zomato.com/ncr/cafe-lota-pragati-m...</td>\n",
              "      <td>National Crafts Museum, Gate 2, Bhairon Marg, ...</td>\n",
              "      <td>9.17839E+11</td>\n",
              "      <td>28.613429</td>\n",
              "      <td>77.242471</td>\n",
              "      <td>Pondicherry Fish Curry, Coconut Rabdi, Sabudan...</td>\n",
              "      <td>Artistic Decor, The Service, Natural Ambience,...</td>\n",
              "    </tr>\n",
              "    <tr>\n",
              "      <th>2</th>\n",
              "      <td>Dum-Pukht - ITC Maurya</td>\n",
              "      <td>Mughlai, North Indian, Desserts</td>\n",
              "      <td>5000</td>\n",
              "      <td>ITC Maurya, Chanakyapuri, New Delhi</td>\n",
              "      <td>4.9</td>\n",
              "      <td>1371</td>\n",
              "      <td>NaN</td>\n",
              "      <td>0</td>\n",
              "      <td>https://www.zomato.com/ncr/dum-pukht-itc-maury...</td>\n",
              "      <td>ITC Maurya, Chanakyapuri, New Delhi</td>\n",
              "      <td>9.11146E+11</td>\n",
              "      <td>28.598200</td>\n",
              "      <td>77.173661</td>\n",
              "      <td>Royal ambiance and Mughlai cuisine, also recei...</td>\n",
              "      <td>NaN</td>\n",
              "    </tr>\n",
              "    <tr>\n",
              "      <th>3</th>\n",
              "      <td>Burma Burma</td>\n",
              "      <td>Asian, Burmese, Bubble Tea, Desserts, Salad</td>\n",
              "      <td>1600</td>\n",
              "      <td>Cyber Hub, DLF Cyber City, Gurgaon</td>\n",
              "      <td>4.9</td>\n",
              "      <td>2636</td>\n",
              "      <td>4.4</td>\n",
              "      <td>1238</td>\n",
              "      <td>https://www.zomato.com/ncr/burma-burma-dlf-cyb...</td>\n",
              "      <td>Shop 6, Ground Floor, Building 8, Tower C, Cyb...</td>\n",
              "      <td>9.11244E+11</td>\n",
              "      <td>28.494464</td>\n",
              "      <td>77.088532</td>\n",
              "      <td>Coconut Milk Dessert, Honey Caviar, Kaffir Lim...</td>\n",
              "      <td>Knowledgeable Staff, Authentic, Soothing Ambie...</td>\n",
              "    </tr>\n",
              "    <tr>\n",
              "      <th>4</th>\n",
              "      <td>The Big Chill</td>\n",
              "      <td>Continental, American, Italian</td>\n",
              "      <td>1500</td>\n",
              "      <td>Khan Market, New Delhi</td>\n",
              "      <td>4.9</td>\n",
              "      <td>6487</td>\n",
              "      <td>NaN</td>\n",
              "      <td>0</td>\n",
              "      <td>https://www.zomato.com/ncr/the-big-chill-khan-...</td>\n",
              "      <td>68-A, Khan Market, New Delhi</td>\n",
              "      <td>9.11142E+11</td>\n",
              "      <td>28.600350</td>\n",
              "      <td>77.227493</td>\n",
              "      <td>Irish Cream Tiramisu, Penne Vodka, Mississippi...</td>\n",
              "      <td>Retro Ambience, Yummy Desserts, Big Portions, ...</td>\n",
              "    </tr>\n",
              "  </tbody>\n",
              "</table>\n",
              "</div>"
            ],
            "text/plain": [
              "          Restaurant_Name  ...                                        Known_For22\n",
              "0                Rustom's  ...                                                NaN\n",
              "1               Cafe Lota  ...  Artistic Decor, The Service, Natural Ambience,...\n",
              "2  Dum-Pukht - ITC Maurya  ...                                                NaN\n",
              "3             Burma Burma  ...  Knowledgeable Staff, Authentic, Soothing Ambie...\n",
              "4           The Big Chill  ...  Retro Ambience, Yummy Desserts, Big Portions, ...\n",
              "\n",
              "[5 rows x 15 columns]"
            ]
          },
          "metadata": {},
          "execution_count": 3
        }
      ]
    },
    {
      "cell_type": "code",
      "metadata": {
        "id": "43gXI-LFJYT7"
      },
      "source": [
        "columns = ['Address', 'Known_For22', 'Website', 'Phone_No', 'Latitude', 'Longitude', 'Delivery_Rating_Count','Delivery_Rating','Dining_Review_Count','Dining_Rating','Pricing_for_2']\n",
        "rest = rest.drop(columns, axis=1)"
      ],
      "execution_count": 4,
      "outputs": []
    },
    {
      "cell_type": "code",
      "metadata": {
        "id": "pX3tS4_wI-9V"
      },
      "source": [
        "rest['Known_For2'] = rest['Known_For2'].fillna('')"
      ],
      "execution_count": 5,
      "outputs": []
    },
    {
      "cell_type": "code",
      "metadata": {
        "colab": {
          "base_uri": "https://localhost:8080/",
          "height": 35
        },
        "id": "_ONkFAq4JL4_",
        "outputId": "7c53fae7-28e8-4c4a-84bf-65350799e122"
      },
      "source": [
        "rest['Locality'][0]"
      ],
      "execution_count": 6,
      "outputs": [
        {
          "output_type": "execute_result",
          "data": {
            "application/vnd.google.colaboratory.intrinsic+json": {
              "type": "string"
            },
            "text/plain": [
              "' ITO, New Delhi'"
            ]
          },
          "metadata": {},
          "execution_count": 6
        }
      ]
    },
    {
      "cell_type": "code",
      "metadata": {
        "colab": {
          "base_uri": "https://localhost:8080/",
          "height": 35
        },
        "id": "ih_tDTY8JErf",
        "outputId": "f99b58cc-1542-4234-c48e-ac79831d761c"
      },
      "source": [
        "rest['Category'][0]"
      ],
      "execution_count": 7,
      "outputs": [
        {
          "output_type": "execute_result",
          "data": {
            "application/vnd.google.colaboratory.intrinsic+json": {
              "type": "string"
            },
            "text/plain": [
              "'Parsi, Street Food, North Indian, Desserts, Beverages'"
            ]
          },
          "metadata": {},
          "execution_count": 7
        }
      ]
    },
    {
      "cell_type": "code",
      "metadata": {
        "id": "wW09HsusNqi6"
      },
      "source": [
        "rest1 = rest.copy()"
      ],
      "execution_count": 8,
      "outputs": []
    },
    {
      "cell_type": "code",
      "metadata": {
        "colab": {
          "base_uri": "https://localhost:8080/",
          "height": 202
        },
        "id": "iXNXFj7GJQG5",
        "outputId": "e7072f1c-7718-445f-911b-81538f63e488"
      },
      "source": [
        "rest.head()"
      ],
      "execution_count": 9,
      "outputs": [
        {
          "output_type": "execute_result",
          "data": {
            "text/html": [
              "<div>\n",
              "<style scoped>\n",
              "    .dataframe tbody tr th:only-of-type {\n",
              "        vertical-align: middle;\n",
              "    }\n",
              "\n",
              "    .dataframe tbody tr th {\n",
              "        vertical-align: top;\n",
              "    }\n",
              "\n",
              "    .dataframe thead th {\n",
              "        text-align: right;\n",
              "    }\n",
              "</style>\n",
              "<table border=\"1\" class=\"dataframe\">\n",
              "  <thead>\n",
              "    <tr style=\"text-align: right;\">\n",
              "      <th></th>\n",
              "      <th>Restaurant_Name</th>\n",
              "      <th>Category</th>\n",
              "      <th>Locality</th>\n",
              "      <th>Known_For2</th>\n",
              "    </tr>\n",
              "  </thead>\n",
              "  <tbody>\n",
              "    <tr>\n",
              "      <th>0</th>\n",
              "      <td>Rustom's</td>\n",
              "      <td>Parsi, Street Food, North Indian, Desserts, Be...</td>\n",
              "      <td>ITO, New Delhi</td>\n",
              "      <td></td>\n",
              "    </tr>\n",
              "    <tr>\n",
              "      <th>1</th>\n",
              "      <td>Cafe Lota</td>\n",
              "      <td>Cafe, South Indian, North Indian, Beverages</td>\n",
              "      <td>Pragati Maidan, New Delhi</td>\n",
              "      <td>Pondicherry Fish Curry, Coconut Rabdi, Sabudan...</td>\n",
              "    </tr>\n",
              "    <tr>\n",
              "      <th>2</th>\n",
              "      <td>Dum-Pukht - ITC Maurya</td>\n",
              "      <td>Mughlai, North Indian, Desserts</td>\n",
              "      <td>ITC Maurya, Chanakyapuri, New Delhi</td>\n",
              "      <td>Royal ambiance and Mughlai cuisine, also recei...</td>\n",
              "    </tr>\n",
              "    <tr>\n",
              "      <th>3</th>\n",
              "      <td>Burma Burma</td>\n",
              "      <td>Asian, Burmese, Bubble Tea, Desserts, Salad</td>\n",
              "      <td>Cyber Hub, DLF Cyber City, Gurgaon</td>\n",
              "      <td>Coconut Milk Dessert, Honey Caviar, Kaffir Lim...</td>\n",
              "    </tr>\n",
              "    <tr>\n",
              "      <th>4</th>\n",
              "      <td>The Big Chill</td>\n",
              "      <td>Continental, American, Italian</td>\n",
              "      <td>Khan Market, New Delhi</td>\n",
              "      <td>Irish Cream Tiramisu, Penne Vodka, Mississippi...</td>\n",
              "    </tr>\n",
              "  </tbody>\n",
              "</table>\n",
              "</div>"
            ],
            "text/plain": [
              "          Restaurant_Name  ...                                         Known_For2\n",
              "0                Rustom's  ...                                                   \n",
              "1               Cafe Lota  ...  Pondicherry Fish Curry, Coconut Rabdi, Sabudan...\n",
              "2  Dum-Pukht - ITC Maurya  ...  Royal ambiance and Mughlai cuisine, also recei...\n",
              "3             Burma Burma  ...  Coconut Milk Dessert, Honey Caviar, Kaffir Lim...\n",
              "4           The Big Chill  ...  Irish Cream Tiramisu, Penne Vodka, Mississippi...\n",
              "\n",
              "[5 rows x 4 columns]"
            ]
          },
          "metadata": {},
          "execution_count": 9
        }
      ]
    },
    {
      "cell_type": "code",
      "metadata": {
        "id": "k9bA2pUKKXE7"
      },
      "source": [
        "rest['Category']=rest['Category'].apply(lambda x: x.split(','))"
      ],
      "execution_count": 10,
      "outputs": []
    },
    {
      "cell_type": "code",
      "metadata": {
        "colab": {
          "base_uri": "https://localhost:8080/",
          "height": 202
        },
        "id": "Ei_L3uUHKyHS",
        "outputId": "ac44ee05-304c-42f7-c816-46e415171e40"
      },
      "source": [
        "rest.head()"
      ],
      "execution_count": 11,
      "outputs": [
        {
          "output_type": "execute_result",
          "data": {
            "text/html": [
              "<div>\n",
              "<style scoped>\n",
              "    .dataframe tbody tr th:only-of-type {\n",
              "        vertical-align: middle;\n",
              "    }\n",
              "\n",
              "    .dataframe tbody tr th {\n",
              "        vertical-align: top;\n",
              "    }\n",
              "\n",
              "    .dataframe thead th {\n",
              "        text-align: right;\n",
              "    }\n",
              "</style>\n",
              "<table border=\"1\" class=\"dataframe\">\n",
              "  <thead>\n",
              "    <tr style=\"text-align: right;\">\n",
              "      <th></th>\n",
              "      <th>Restaurant_Name</th>\n",
              "      <th>Category</th>\n",
              "      <th>Locality</th>\n",
              "      <th>Known_For2</th>\n",
              "    </tr>\n",
              "  </thead>\n",
              "  <tbody>\n",
              "    <tr>\n",
              "      <th>0</th>\n",
              "      <td>Rustom's</td>\n",
              "      <td>[Parsi,  Street Food,  North Indian,  Desserts...</td>\n",
              "      <td>ITO, New Delhi</td>\n",
              "      <td></td>\n",
              "    </tr>\n",
              "    <tr>\n",
              "      <th>1</th>\n",
              "      <td>Cafe Lota</td>\n",
              "      <td>[Cafe,  South Indian,  North Indian,  Beverages]</td>\n",
              "      <td>Pragati Maidan, New Delhi</td>\n",
              "      <td>Pondicherry Fish Curry, Coconut Rabdi, Sabudan...</td>\n",
              "    </tr>\n",
              "    <tr>\n",
              "      <th>2</th>\n",
              "      <td>Dum-Pukht - ITC Maurya</td>\n",
              "      <td>[Mughlai,  North Indian,  Desserts]</td>\n",
              "      <td>ITC Maurya, Chanakyapuri, New Delhi</td>\n",
              "      <td>Royal ambiance and Mughlai cuisine, also recei...</td>\n",
              "    </tr>\n",
              "    <tr>\n",
              "      <th>3</th>\n",
              "      <td>Burma Burma</td>\n",
              "      <td>[Asian,  Burmese,  Bubble Tea,  Desserts,  Salad]</td>\n",
              "      <td>Cyber Hub, DLF Cyber City, Gurgaon</td>\n",
              "      <td>Coconut Milk Dessert, Honey Caviar, Kaffir Lim...</td>\n",
              "    </tr>\n",
              "    <tr>\n",
              "      <th>4</th>\n",
              "      <td>The Big Chill</td>\n",
              "      <td>[Continental,  American,  Italian]</td>\n",
              "      <td>Khan Market, New Delhi</td>\n",
              "      <td>Irish Cream Tiramisu, Penne Vodka, Mississippi...</td>\n",
              "    </tr>\n",
              "  </tbody>\n",
              "</table>\n",
              "</div>"
            ],
            "text/plain": [
              "          Restaurant_Name  ...                                         Known_For2\n",
              "0                Rustom's  ...                                                   \n",
              "1               Cafe Lota  ...  Pondicherry Fish Curry, Coconut Rabdi, Sabudan...\n",
              "2  Dum-Pukht - ITC Maurya  ...  Royal ambiance and Mughlai cuisine, also recei...\n",
              "3             Burma Burma  ...  Coconut Milk Dessert, Honey Caviar, Kaffir Lim...\n",
              "4           The Big Chill  ...  Irish Cream Tiramisu, Penne Vodka, Mississippi...\n",
              "\n",
              "[5 rows x 4 columns]"
            ]
          },
          "metadata": {},
          "execution_count": 11
        }
      ]
    },
    {
      "cell_type": "code",
      "metadata": {
        "id": "IsU57ADoK2gC"
      },
      "source": [
        "rest['Locality']=rest['Locality'].apply(lambda x: x.split(','))"
      ],
      "execution_count": 12,
      "outputs": []
    },
    {
      "cell_type": "code",
      "metadata": {
        "colab": {
          "base_uri": "https://localhost:8080/",
          "height": 202
        },
        "id": "_gOOYXWULAJ8",
        "outputId": "efbe636d-2983-46ac-9090-544a74f50c39"
      },
      "source": [
        "rest.head()"
      ],
      "execution_count": 13,
      "outputs": [
        {
          "output_type": "execute_result",
          "data": {
            "text/html": [
              "<div>\n",
              "<style scoped>\n",
              "    .dataframe tbody tr th:only-of-type {\n",
              "        vertical-align: middle;\n",
              "    }\n",
              "\n",
              "    .dataframe tbody tr th {\n",
              "        vertical-align: top;\n",
              "    }\n",
              "\n",
              "    .dataframe thead th {\n",
              "        text-align: right;\n",
              "    }\n",
              "</style>\n",
              "<table border=\"1\" class=\"dataframe\">\n",
              "  <thead>\n",
              "    <tr style=\"text-align: right;\">\n",
              "      <th></th>\n",
              "      <th>Restaurant_Name</th>\n",
              "      <th>Category</th>\n",
              "      <th>Locality</th>\n",
              "      <th>Known_For2</th>\n",
              "    </tr>\n",
              "  </thead>\n",
              "  <tbody>\n",
              "    <tr>\n",
              "      <th>0</th>\n",
              "      <td>Rustom's</td>\n",
              "      <td>[Parsi,  Street Food,  North Indian,  Desserts...</td>\n",
              "      <td>[ ITO,  New Delhi]</td>\n",
              "      <td></td>\n",
              "    </tr>\n",
              "    <tr>\n",
              "      <th>1</th>\n",
              "      <td>Cafe Lota</td>\n",
              "      <td>[Cafe,  South Indian,  North Indian,  Beverages]</td>\n",
              "      <td>[ Pragati Maidan,  New Delhi]</td>\n",
              "      <td>Pondicherry Fish Curry, Coconut Rabdi, Sabudan...</td>\n",
              "    </tr>\n",
              "    <tr>\n",
              "      <th>2</th>\n",
              "      <td>Dum-Pukht - ITC Maurya</td>\n",
              "      <td>[Mughlai,  North Indian,  Desserts]</td>\n",
              "      <td>[ ITC Maurya,  Chanakyapuri,  New Delhi]</td>\n",
              "      <td>Royal ambiance and Mughlai cuisine, also recei...</td>\n",
              "    </tr>\n",
              "    <tr>\n",
              "      <th>3</th>\n",
              "      <td>Burma Burma</td>\n",
              "      <td>[Asian,  Burmese,  Bubble Tea,  Desserts,  Salad]</td>\n",
              "      <td>[ Cyber Hub,  DLF Cyber City,  Gurgaon]</td>\n",
              "      <td>Coconut Milk Dessert, Honey Caviar, Kaffir Lim...</td>\n",
              "    </tr>\n",
              "    <tr>\n",
              "      <th>4</th>\n",
              "      <td>The Big Chill</td>\n",
              "      <td>[Continental,  American,  Italian]</td>\n",
              "      <td>[ Khan Market,  New Delhi]</td>\n",
              "      <td>Irish Cream Tiramisu, Penne Vodka, Mississippi...</td>\n",
              "    </tr>\n",
              "  </tbody>\n",
              "</table>\n",
              "</div>"
            ],
            "text/plain": [
              "          Restaurant_Name  ...                                         Known_For2\n",
              "0                Rustom's  ...                                                   \n",
              "1               Cafe Lota  ...  Pondicherry Fish Curry, Coconut Rabdi, Sabudan...\n",
              "2  Dum-Pukht - ITC Maurya  ...  Royal ambiance and Mughlai cuisine, also recei...\n",
              "3             Burma Burma  ...  Coconut Milk Dessert, Honey Caviar, Kaffir Lim...\n",
              "4           The Big Chill  ...  Irish Cream Tiramisu, Penne Vodka, Mississippi...\n",
              "\n",
              "[5 rows x 4 columns]"
            ]
          },
          "metadata": {},
          "execution_count": 13
        }
      ]
    },
    {
      "cell_type": "code",
      "metadata": {
        "id": "r-D7mj1qLC7y"
      },
      "source": [
        "rest['Known_For2']=rest['Known_For2'].apply(lambda x: x.split(','))"
      ],
      "execution_count": 14,
      "outputs": []
    },
    {
      "cell_type": "code",
      "metadata": {
        "colab": {
          "base_uri": "https://localhost:8080/",
          "height": 202
        },
        "id": "anMJQcRBLLbl",
        "outputId": "eb2cc40b-1334-42c0-8064-57b12a4f8bc1"
      },
      "source": [
        "rest.head()"
      ],
      "execution_count": 15,
      "outputs": [
        {
          "output_type": "execute_result",
          "data": {
            "text/html": [
              "<div>\n",
              "<style scoped>\n",
              "    .dataframe tbody tr th:only-of-type {\n",
              "        vertical-align: middle;\n",
              "    }\n",
              "\n",
              "    .dataframe tbody tr th {\n",
              "        vertical-align: top;\n",
              "    }\n",
              "\n",
              "    .dataframe thead th {\n",
              "        text-align: right;\n",
              "    }\n",
              "</style>\n",
              "<table border=\"1\" class=\"dataframe\">\n",
              "  <thead>\n",
              "    <tr style=\"text-align: right;\">\n",
              "      <th></th>\n",
              "      <th>Restaurant_Name</th>\n",
              "      <th>Category</th>\n",
              "      <th>Locality</th>\n",
              "      <th>Known_For2</th>\n",
              "    </tr>\n",
              "  </thead>\n",
              "  <tbody>\n",
              "    <tr>\n",
              "      <th>0</th>\n",
              "      <td>Rustom's</td>\n",
              "      <td>[Parsi,  Street Food,  North Indian,  Desserts...</td>\n",
              "      <td>[ ITO,  New Delhi]</td>\n",
              "      <td>[]</td>\n",
              "    </tr>\n",
              "    <tr>\n",
              "      <th>1</th>\n",
              "      <td>Cafe Lota</td>\n",
              "      <td>[Cafe,  South Indian,  North Indian,  Beverages]</td>\n",
              "      <td>[ Pragati Maidan,  New Delhi]</td>\n",
              "      <td>[Pondicherry Fish Curry,  Coconut Rabdi,  Sabu...</td>\n",
              "    </tr>\n",
              "    <tr>\n",
              "      <th>2</th>\n",
              "      <td>Dum-Pukht - ITC Maurya</td>\n",
              "      <td>[Mughlai,  North Indian,  Desserts]</td>\n",
              "      <td>[ ITC Maurya,  Chanakyapuri,  New Delhi]</td>\n",
              "      <td>[Royal ambiance and Mughlai cuisine,  also rec...</td>\n",
              "    </tr>\n",
              "    <tr>\n",
              "      <th>3</th>\n",
              "      <td>Burma Burma</td>\n",
              "      <td>[Asian,  Burmese,  Bubble Tea,  Desserts,  Salad]</td>\n",
              "      <td>[ Cyber Hub,  DLF Cyber City,  Gurgaon]</td>\n",
              "      <td>[Coconut Milk Dessert,  Honey Caviar,  Kaffir ...</td>\n",
              "    </tr>\n",
              "    <tr>\n",
              "      <th>4</th>\n",
              "      <td>The Big Chill</td>\n",
              "      <td>[Continental,  American,  Italian]</td>\n",
              "      <td>[ Khan Market,  New Delhi]</td>\n",
              "      <td>[Irish Cream Tiramisu,  Penne Vodka,  Mississi...</td>\n",
              "    </tr>\n",
              "  </tbody>\n",
              "</table>\n",
              "</div>"
            ],
            "text/plain": [
              "          Restaurant_Name  ...                                         Known_For2\n",
              "0                Rustom's  ...                                                 []\n",
              "1               Cafe Lota  ...  [Pondicherry Fish Curry,  Coconut Rabdi,  Sabu...\n",
              "2  Dum-Pukht - ITC Maurya  ...  [Royal ambiance and Mughlai cuisine,  also rec...\n",
              "3             Burma Burma  ...  [Coconut Milk Dessert,  Honey Caviar,  Kaffir ...\n",
              "4           The Big Chill  ...  [Irish Cream Tiramisu,  Penne Vodka,  Mississi...\n",
              "\n",
              "[5 rows x 4 columns]"
            ]
          },
          "metadata": {},
          "execution_count": 15
        }
      ]
    },
    {
      "cell_type": "code",
      "metadata": {
        "id": "7AKq8lsqLM-K"
      },
      "source": [
        "rest['Known_For2']=rest['Known_For2'].apply(lambda x: [i.replace(\" \", \"\") for i in x])\n",
        "rest['Category']=rest['Category'].apply(lambda x: [i.replace(\" \", \"\") for i in x])\n",
        "rest['Locality']=rest['Locality'].apply(lambda x: [i.replace(\" \", \"\") for i in x])"
      ],
      "execution_count": 16,
      "outputs": []
    },
    {
      "cell_type": "code",
      "metadata": {
        "colab": {
          "base_uri": "https://localhost:8080/",
          "height": 202
        },
        "id": "ag3_drycLoAv",
        "outputId": "9d1f3042-34c5-4717-9387-6364da22e268"
      },
      "source": [
        "rest.head()"
      ],
      "execution_count": 17,
      "outputs": [
        {
          "output_type": "execute_result",
          "data": {
            "text/html": [
              "<div>\n",
              "<style scoped>\n",
              "    .dataframe tbody tr th:only-of-type {\n",
              "        vertical-align: middle;\n",
              "    }\n",
              "\n",
              "    .dataframe tbody tr th {\n",
              "        vertical-align: top;\n",
              "    }\n",
              "\n",
              "    .dataframe thead th {\n",
              "        text-align: right;\n",
              "    }\n",
              "</style>\n",
              "<table border=\"1\" class=\"dataframe\">\n",
              "  <thead>\n",
              "    <tr style=\"text-align: right;\">\n",
              "      <th></th>\n",
              "      <th>Restaurant_Name</th>\n",
              "      <th>Category</th>\n",
              "      <th>Locality</th>\n",
              "      <th>Known_For2</th>\n",
              "    </tr>\n",
              "  </thead>\n",
              "  <tbody>\n",
              "    <tr>\n",
              "      <th>0</th>\n",
              "      <td>Rustom's</td>\n",
              "      <td>[Parsi, StreetFood, NorthIndian, Desserts, Bev...</td>\n",
              "      <td>[ITO, NewDelhi]</td>\n",
              "      <td>[]</td>\n",
              "    </tr>\n",
              "    <tr>\n",
              "      <th>1</th>\n",
              "      <td>Cafe Lota</td>\n",
              "      <td>[Cafe, SouthIndian, NorthIndian, Beverages]</td>\n",
              "      <td>[PragatiMaidan, NewDelhi]</td>\n",
              "      <td>[PondicherryFishCurry, CoconutRabdi, SabudanaP...</td>\n",
              "    </tr>\n",
              "    <tr>\n",
              "      <th>2</th>\n",
              "      <td>Dum-Pukht - ITC Maurya</td>\n",
              "      <td>[Mughlai, NorthIndian, Desserts]</td>\n",
              "      <td>[ITCMaurya, Chanakyapuri, NewDelhi]</td>\n",
              "      <td>[RoyalambianceandMughlaicuisine, alsoreceivedt...</td>\n",
              "    </tr>\n",
              "    <tr>\n",
              "      <th>3</th>\n",
              "      <td>Burma Burma</td>\n",
              "      <td>[Asian, Burmese, BubbleTea, Desserts, Salad]</td>\n",
              "      <td>[CyberHub, DLFCyberCity, Gurgaon]</td>\n",
              "      <td>[CoconutMilkDessert, HoneyCaviar, KaffirLimeCo...</td>\n",
              "    </tr>\n",
              "    <tr>\n",
              "      <th>4</th>\n",
              "      <td>The Big Chill</td>\n",
              "      <td>[Continental, American, Italian]</td>\n",
              "      <td>[KhanMarket, NewDelhi]</td>\n",
              "      <td>[IrishCreamTiramisu, PenneVodka, MississippiMu...</td>\n",
              "    </tr>\n",
              "  </tbody>\n",
              "</table>\n",
              "</div>"
            ],
            "text/plain": [
              "          Restaurant_Name  ...                                         Known_For2\n",
              "0                Rustom's  ...                                                 []\n",
              "1               Cafe Lota  ...  [PondicherryFishCurry, CoconutRabdi, SabudanaP...\n",
              "2  Dum-Pukht - ITC Maurya  ...  [RoyalambianceandMughlaicuisine, alsoreceivedt...\n",
              "3             Burma Burma  ...  [CoconutMilkDessert, HoneyCaviar, KaffirLimeCo...\n",
              "4           The Big Chill  ...  [IrishCreamTiramisu, PenneVodka, MississippiMu...\n",
              "\n",
              "[5 rows x 4 columns]"
            ]
          },
          "metadata": {},
          "execution_count": 17
        }
      ]
    },
    {
      "cell_type": "code",
      "metadata": {
        "id": "nl8cnnxcLqn-"
      },
      "source": [
        "rest['tag'] = rest['Known_For2'] + rest['Category'] + rest['Locality']"
      ],
      "execution_count": 18,
      "outputs": []
    },
    {
      "cell_type": "code",
      "metadata": {
        "id": "zoGqcPq2L0XV"
      },
      "source": [
        "df = pd.DataFrame({\"Tag\": rest['tag'], 'rest_name':rest['Restaurant_Name']})"
      ],
      "execution_count": 19,
      "outputs": []
    },
    {
      "cell_type": "code",
      "metadata": {
        "id": "RHC4jcm4MiN5"
      },
      "source": [
        "df['Id'] = rest.index + 1"
      ],
      "execution_count": 20,
      "outputs": []
    },
    {
      "cell_type": "code",
      "metadata": {
        "id": "uV57KhCvNan5"
      },
      "source": [
        "df = df[['Id', 'rest_name', 'Tag']]"
      ],
      "execution_count": 21,
      "outputs": []
    },
    {
      "cell_type": "code",
      "metadata": {
        "id": "joHKNIlGM3Hw"
      },
      "source": [
        "rest1['Id'] = df['Id']"
      ],
      "execution_count": 22,
      "outputs": []
    },
    {
      "cell_type": "code",
      "metadata": {
        "colab": {
          "base_uri": "https://localhost:8080/",
          "height": 202
        },
        "id": "PbSkSGdmNrFF",
        "outputId": "4e65b6d6-a3ac-4e89-dc1a-2d2a3717fb42"
      },
      "source": [
        "df.head()"
      ],
      "execution_count": 23,
      "outputs": [
        {
          "output_type": "execute_result",
          "data": {
            "text/html": [
              "<div>\n",
              "<style scoped>\n",
              "    .dataframe tbody tr th:only-of-type {\n",
              "        vertical-align: middle;\n",
              "    }\n",
              "\n",
              "    .dataframe tbody tr th {\n",
              "        vertical-align: top;\n",
              "    }\n",
              "\n",
              "    .dataframe thead th {\n",
              "        text-align: right;\n",
              "    }\n",
              "</style>\n",
              "<table border=\"1\" class=\"dataframe\">\n",
              "  <thead>\n",
              "    <tr style=\"text-align: right;\">\n",
              "      <th></th>\n",
              "      <th>Id</th>\n",
              "      <th>rest_name</th>\n",
              "      <th>Tag</th>\n",
              "    </tr>\n",
              "  </thead>\n",
              "  <tbody>\n",
              "    <tr>\n",
              "      <th>0</th>\n",
              "      <td>1</td>\n",
              "      <td>Rustom's</td>\n",
              "      <td>[, Parsi, StreetFood, NorthIndian, Desserts, B...</td>\n",
              "    </tr>\n",
              "    <tr>\n",
              "      <th>1</th>\n",
              "      <td>2</td>\n",
              "      <td>Cafe Lota</td>\n",
              "      <td>[PondicherryFishCurry, CoconutRabdi, SabudanaP...</td>\n",
              "    </tr>\n",
              "    <tr>\n",
              "      <th>2</th>\n",
              "      <td>3</td>\n",
              "      <td>Dum-Pukht - ITC Maurya</td>\n",
              "      <td>[RoyalambianceandMughlaicuisine, alsoreceivedt...</td>\n",
              "    </tr>\n",
              "    <tr>\n",
              "      <th>3</th>\n",
              "      <td>4</td>\n",
              "      <td>Burma Burma</td>\n",
              "      <td>[CoconutMilkDessert, HoneyCaviar, KaffirLimeCo...</td>\n",
              "    </tr>\n",
              "    <tr>\n",
              "      <th>4</th>\n",
              "      <td>5</td>\n",
              "      <td>The Big Chill</td>\n",
              "      <td>[IrishCreamTiramisu, PenneVodka, MississippiMu...</td>\n",
              "    </tr>\n",
              "  </tbody>\n",
              "</table>\n",
              "</div>"
            ],
            "text/plain": [
              "   Id  ...                                                Tag\n",
              "0   1  ...  [, Parsi, StreetFood, NorthIndian, Desserts, B...\n",
              "1   2  ...  [PondicherryFishCurry, CoconutRabdi, SabudanaP...\n",
              "2   3  ...  [RoyalambianceandMughlaicuisine, alsoreceivedt...\n",
              "3   4  ...  [CoconutMilkDessert, HoneyCaviar, KaffirLimeCo...\n",
              "4   5  ...  [IrishCreamTiramisu, PenneVodka, MississippiMu...\n",
              "\n",
              "[5 rows x 3 columns]"
            ]
          },
          "metadata": {},
          "execution_count": 23
        }
      ]
    },
    {
      "cell_type": "code",
      "metadata": {
        "id": "_4BJxcO-N4uC"
      },
      "source": [
        "df['Tag']=df['Tag'].apply(lambda x:\" \".join(x))"
      ],
      "execution_count": 24,
      "outputs": []
    },
    {
      "cell_type": "code",
      "metadata": {
        "id": "--CxhRoJOIvk"
      },
      "source": [
        "df['Tag']=df['Tag'].apply(lambda x: x.lower())"
      ],
      "execution_count": 25,
      "outputs": []
    },
    {
      "cell_type": "code",
      "metadata": {
        "colab": {
          "base_uri": "https://localhost:8080/",
          "height": 202
        },
        "id": "_ZmdbdDrONMK",
        "outputId": "544992e0-8439-43aa-8cde-7e66b6eff66a"
      },
      "source": [
        "df.head()"
      ],
      "execution_count": 26,
      "outputs": [
        {
          "output_type": "execute_result",
          "data": {
            "text/html": [
              "<div>\n",
              "<style scoped>\n",
              "    .dataframe tbody tr th:only-of-type {\n",
              "        vertical-align: middle;\n",
              "    }\n",
              "\n",
              "    .dataframe tbody tr th {\n",
              "        vertical-align: top;\n",
              "    }\n",
              "\n",
              "    .dataframe thead th {\n",
              "        text-align: right;\n",
              "    }\n",
              "</style>\n",
              "<table border=\"1\" class=\"dataframe\">\n",
              "  <thead>\n",
              "    <tr style=\"text-align: right;\">\n",
              "      <th></th>\n",
              "      <th>Id</th>\n",
              "      <th>rest_name</th>\n",
              "      <th>Tag</th>\n",
              "    </tr>\n",
              "  </thead>\n",
              "  <tbody>\n",
              "    <tr>\n",
              "      <th>0</th>\n",
              "      <td>1</td>\n",
              "      <td>Rustom's</td>\n",
              "      <td>parsi streetfood northindian desserts beverag...</td>\n",
              "    </tr>\n",
              "    <tr>\n",
              "      <th>1</th>\n",
              "      <td>2</td>\n",
              "      <td>Cafe Lota</td>\n",
              "      <td>pondicherryfishcurry coconutrabdi sabudanapopc...</td>\n",
              "    </tr>\n",
              "    <tr>\n",
              "      <th>2</th>\n",
              "      <td>3</td>\n",
              "      <td>Dum-Pukht - ITC Maurya</td>\n",
              "      <td>royalambianceandmughlaicuisine alsoreceivedthe...</td>\n",
              "    </tr>\n",
              "    <tr>\n",
              "      <th>3</th>\n",
              "      <td>4</td>\n",
              "      <td>Burma Burma</td>\n",
              "      <td>coconutmilkdessert honeycaviar kaffirlimecoole...</td>\n",
              "    </tr>\n",
              "    <tr>\n",
              "      <th>4</th>\n",
              "      <td>5</td>\n",
              "      <td>The Big Chill</td>\n",
              "      <td>irishcreamtiramisu pennevodka mississippimudpi...</td>\n",
              "    </tr>\n",
              "  </tbody>\n",
              "</table>\n",
              "</div>"
            ],
            "text/plain": [
              "   Id  ...                                                Tag\n",
              "0   1  ...   parsi streetfood northindian desserts beverag...\n",
              "1   2  ...  pondicherryfishcurry coconutrabdi sabudanapopc...\n",
              "2   3  ...  royalambianceandmughlaicuisine alsoreceivedthe...\n",
              "3   4  ...  coconutmilkdessert honeycaviar kaffirlimecoole...\n",
              "4   5  ...  irishcreamtiramisu pennevodka mississippimudpi...\n",
              "\n",
              "[5 rows x 3 columns]"
            ]
          },
          "metadata": {},
          "execution_count": 26
        }
      ]
    },
    {
      "cell_type": "code",
      "metadata": {
        "colab": {
          "base_uri": "https://localhost:8080/",
          "height": 35
        },
        "id": "XhqM06mUORPS",
        "outputId": "c20c0494-488d-4775-b43b-49d8bf712e61"
      },
      "source": [
        "df['Tag'][1872]"
      ],
      "execution_count": 27,
      "outputs": [
        {
          "output_type": "execute_result",
          "data": {
            "application/vnd.google.colaboratory.intrinsic+json": {
              "type": "string"
            },
            "text/plain": [
              "'menuoptions varietyofpizza awesomeplace goodwifi goodmusic elaboratemenu italian pizza beverages kailashcolony newdelhi'"
            ]
          },
          "metadata": {},
          "execution_count": 27
        }
      ]
    },
    {
      "cell_type": "code",
      "metadata": {
        "id": "w6eYKbE5Og8R"
      },
      "source": [
        "from sklearn.feature_extraction.text import CountVectorizer\n",
        "cv = CountVectorizer(max_features=8000,stop_words='english')"
      ],
      "execution_count": 28,
      "outputs": []
    },
    {
      "cell_type": "code",
      "metadata": {
        "id": "x9Br_iM9Ohac"
      },
      "source": [
        "vectors = cv.fit_transform(df['Tag']).toarray()"
      ],
      "execution_count": 29,
      "outputs": []
    },
    {
      "cell_type": "code",
      "metadata": {
        "colab": {
          "base_uri": "https://localhost:8080/"
        },
        "id": "5DrizmRtOlQl",
        "outputId": "fcc02a1d-79fb-44c3-b7e0-36530c80482c"
      },
      "source": [
        "cv.get_feature_names()"
      ],
      "execution_count": 30,
      "outputs": [
        {
          "output_type": "execute_result",
          "data": {
            "text/plain": [
              "['000plustaxesfor2hours',\n",
              " '1roundofsoftdrink',\n",
              " '209',\n",
              " '3000',\n",
              " '30mins',\n",
              " '32ndavenue',\n",
              " '3c',\n",
              " '800',\n",
              " '9818009286',\n",
              " 'achaarichaap',\n",
              " 'acharialoo',\n",
              " 'acharichaap',\n",
              " 'acharichaaproll',\n",
              " 'acharichicken',\n",
              " 'acharipaneer',\n",
              " 'acharisoyachaap',\n",
              " 'acollectionofboardgamesandanescaperoom',\n",
              " 'aconsciousandcommunityorientedspace',\n",
              " 'adchini',\n",
              " 'adityacitycentre',\n",
              " 'adraktulsichai',\n",
              " 'aerocity',\n",
              " 'affordable',\n",
              " 'affordableprices',\n",
              " 'afghan',\n",
              " 'afghanchicken',\n",
              " 'afghanibbqchicken',\n",
              " 'afghanichaap',\n",
              " 'afghanichap',\n",
              " 'afghanichicken',\n",
              " 'afghanimurghtikka',\n",
              " 'afghanipulao',\n",
              " 'afghanisoyachaap',\n",
              " 'aggarwalcitymall',\n",
              " 'ajwainiparatha',\n",
              " 'ajwainpaneertikka',\n",
              " 'alaknanda',\n",
              " 'alfredopasta',\n",
              " 'allinclusive',\n",
              " 'almondbiscotti',\n",
              " 'almondcake',\n",
              " 'almondcroissant',\n",
              " 'almondshake',\n",
              " 'almondtart',\n",
              " 'aloft',\n",
              " 'alongwithseafoodandauthenticsouthindiandelicacies',\n",
              " 'alooamritsarikulcha',\n",
              " 'aloobedmi',\n",
              " 'aloogobhi',\n",
              " 'aloogobhiparantha',\n",
              " 'aloojeera',\n",
              " 'alookofta',\n",
              " 'alookulcha',\n",
              " 'aloomasala',\n",
              " 'alooparantha',\n",
              " 'aloopatty',\n",
              " 'aloopoori',\n",
              " 'alooposto',\n",
              " 'aloopyazkulcha',\n",
              " 'aloopyazparantha',\n",
              " 'aloopyazparatha',\n",
              " 'alooroll',\n",
              " 'aloosabji',\n",
              " 'aloosadeko',\n",
              " 'aloostuffedparatha',\n",
              " 'alootikkisupremeburger',\n",
              " 'alpha1',\n",
              " 'alpha2',\n",
              " 'alsoreceivedthe',\n",
              " 'amarcolony',\n",
              " 'amazingambience',\n",
              " 'amazingdecor',\n",
              " 'amazingfood',\n",
              " 'amazingfoodandexperience',\n",
              " 'amazingfoodwithbestprice',\n",
              " 'amazinghospitality',\n",
              " 'amazinginteriors',\n",
              " 'amazingmusic',\n",
              " 'amazingplace',\n",
              " 'amazingstaff',\n",
              " 'amazingvibe',\n",
              " 'ambassador',\n",
              " 'ambedkarroad',\n",
              " 'ambiance',\n",
              " 'ambianceandmusic',\n",
              " 'ambience',\n",
              " 'ambienceisbeautiful',\n",
              " 'ambienceiscool',\n",
              " 'ambienceisverynice',\n",
              " 'ambiencemall',\n",
              " 'ambiencewassupercool',\n",
              " 'ambiencewithcontemporaryorientaldesignandarooftopterrace',\n",
              " 'amchivadapav',\n",
              " 'american',\n",
              " 'americanandpanasiancuisine',\n",
              " 'americanfriedchicken',\n",
              " 'americanvegpizza',\n",
              " 'ameyasuites',\n",
              " 'ampleseatingarea',\n",
              " 'amrapalidreamvalley',\n",
              " 'amrapalileisurevalley',\n",
              " 'amritsarichhole',\n",
              " 'amritsarifishfry',\n",
              " 'amritsarikoolcha',\n",
              " 'amritsarikukkad',\n",
              " 'amritsariparantha',\n",
              " 'amritsarithali',\n",
              " 'anandvihar',\n",
              " 'andabhurji',\n",
              " 'andabun',\n",
              " 'andacurry',\n",
              " 'andaparantha',\n",
              " 'andazdelhi',\n",
              " 'andcurriestochoosefrom',\n",
              " 'andgratifyingfood',\n",
              " 'andhra',\n",
              " 'andhrachicken',\n",
              " 'andhrachickencurry',\n",
              " 'andhrafishfry',\n",
              " 'andparsithemedambiance',\n",
              " 'andtraditionalpracticesofundividedindia',\n",
              " 'angoorikofta',\n",
              " 'ansalplazamall',\n",
              " 'appalam',\n",
              " 'appam',\n",
              " 'appetisers',\n",
              " 'appetizers',\n",
              " 'appleciderbeer',\n",
              " 'applecinnamoncake',\n",
              " 'applecrumble',\n",
              " 'applecrumblepie',\n",
              " 'applepieshake',\n",
              " 'arabian',\n",
              " 'arabiatapasta',\n",
              " 'arabicplatter',\n",
              " 'ardeecity',\n",
              " 'ardeemall',\n",
              " 'arestaurantofferingauniquediningexperiencewithauthenticeuropeandishes',\n",
              " 'aromatichoneychicken',\n",
              " 'arrabbiatapasta',\n",
              " 'artichokedip',\n",
              " 'asafaliroad',\n",
              " 'ashokviharphase1',\n",
              " 'ashokviharphase2',\n",
              " 'ashokviharphase3',\n",
              " 'asian',\n",
              " 'asianandorientaldining',\n",
              " 'asparagustempura',\n",
              " 'assamese',\n",
              " 'assamesethali',\n",
              " 'assortedrangeofauthenticpanasianfoodservedinacozysetting',\n",
              " 'atechsavvyrestaurantofferingauniquediningexperiencewithscreensontablesgivingitafuturisticfeel',\n",
              " 'atmosphere',\n",
              " 'attitude',\n",
              " 'auberginecurry',\n",
              " 'aurangzebroad',\n",
              " 'authenticbengalifood',\n",
              " 'authenticfood',\n",
              " 'authenticgoanfood',\n",
              " 'authenticgujaratifood',\n",
              " 'authentichyderabadibiryani',\n",
              " 'authentickashmiricuisine',\n",
              " 'authenticmughlaifood',\n",
              " 'authenticnepalifood',\n",
              " 'authenticpunjabifood',\n",
              " 'authenticsweets',\n",
              " 'authentictaste',\n",
              " 'authentictibetanfood',\n",
              " 'avalanche',\n",
              " 'averagesizedportions',\n",
              " 'avial',\n",
              " 'avocadoroll',\n",
              " 'avocadosalad',\n",
              " 'avocadotoast',\n",
              " 'awadhi',\n",
              " 'awesomeambience',\n",
              " 'awesomefood',\n",
              " 'awesomemusic',\n",
              " 'awesomenorthindiandelicaciesandkebabsatapocketfriendlyprice',\n",
              " 'awesomeplace',\n",
              " 'awesomeservice',\n",
              " 'awesomespottohangout',\n",
              " 'awesomestaff',\n",
              " 'azadpur',\n",
              " 'baanisquare',\n",
              " 'baanthai',\n",
              " 'bababutterchicken',\n",
              " 'babaganush',\n",
              " 'bacon',\n",
              " 'baconomelette',\n",
              " 'baconpanini',\n",
              " 'badamikheer',\n",
              " 'badampasanda',\n",
              " 'badarpurborder',\n",
              " 'badkallake',\n",
              " 'badshahikofta',\n",
              " 'bagels',\n",
              " 'baguette',\n",
              " 'bakedchickentoscana',\n",
              " 'bakedmacaroni',\n",
              " 'bakedpasta',\n",
              " 'bakedpennepasta',\n",
              " 'bakedsamosa',\n",
              " 'bakery',\n",
              " 'baklava',\n",
              " 'balconyarea',\n",
              " 'balconyseatingarrangementwithlivebandperfomances',\n",
              " 'balinesechickensatay',\n",
              " 'ballabhgarh',\n",
              " 'baltimeat',\n",
              " 'balushahi',\n",
              " 'bamboochickenbiryani',\n",
              " 'bambooshootpork',\n",
              " 'bananabread',\n",
              " 'bananacaramel',\n",
              " 'bananacaramelpancake',\n",
              " 'bananafritters',\n",
              " 'bananamuffin',\n",
              " 'banananutella',\n",
              " 'banananutellacrepe',\n",
              " 'bananapie',\n",
              " 'bananapudding',\n",
              " 'bananasplit',\n",
              " 'bananatoffee',\n",
              " 'bananawalnutcake',\n",
              " 'banarasichaat',\n",
              " 'bangforthebuck',\n",
              " 'banhmi',\n",
              " 'banoffeepie',\n",
              " 'banofipie',\n",
              " 'bao',\n",
              " 'baobun',\n",
              " 'bar',\n",
              " 'barakhambaroad',\n",
              " 'barbecuewings',\n",
              " 'barbeque',\n",
              " 'barbequechicken',\n",
              " 'barbequechickenpizza',\n",
              " 'barfi',\n",
              " 'barfood',\n",
              " 'bargames',\n",
              " 'barleysalad',\n",
              " 'bartender',\n",
              " 'barwithbestambience',\n",
              " 'basantlokmarket',\n",
              " 'basilroll',\n",
              " 'bbq',\n",
              " 'bbqchicken',\n",
              " 'bbqchickensandwich',\n",
              " 'bbqlasagna',\n",
              " 'bbqpizza',\n",
              " 'bbqspaghetti',\n",
              " 'beautifulambience',\n",
              " 'beautifulcafe',\n",
              " 'beautifulplace',\n",
              " 'beautifulview',\n",
              " 'becauseit',\n",
              " 'bedmipoori',\n",
              " 'bedmipuri',\n",
              " 'beefburger',\n",
              " 'beefchilli',\n",
              " 'beefkabab',\n",
              " 'beefkebabs',\n",
              " 'beer',\n",
              " 'beercocktail',\n",
              " 'beers',\n",
              " 'beetrootburger',\n",
              " 'beetroothummus',\n",
              " 'begunbhaja',\n",
              " 'behavior',\n",
              " 'beijingchicken',\n",
              " 'belgian',\n",
              " 'belgianchocolate',\n",
              " 'belgianchocoshake',\n",
              " 'belgianevasioncake',\n",
              " 'belgianfries',\n",
              " 'belgianshake',\n",
              " 'belgiumchocolate',\n",
              " 'belgiumchocolateicecream',\n",
              " 'beliramchicken',\n",
              " 'bellini',\n",
              " 'below25yearsofagenotallowedafter6pm',\n",
              " 'bengali',\n",
              " 'bengalisweets',\n",
              " 'bennekhalidosa',\n",
              " 'berryblast',\n",
              " 'berrysmoothie',\n",
              " 'besanburfi',\n",
              " 'besangatta',\n",
              " 'bestclub',\n",
              " 'bestdecor',\n",
              " 'bestfood',\n",
              " 'bestfoodunderbestbudget',\n",
              " 'bestinservice',\n",
              " 'bestlocation',\n",
              " 'bestplace',\n",
              " 'bestplaces',\n",
              " 'bestquality',\n",
              " 'bestrestaurant',\n",
              " 'bestrocknightintownwithdjsagareveryfridayandsaturday',\n",
              " 'bestservice',\n",
              " 'bestservices',\n",
              " 'beststaff',\n",
              " 'beta1',\n",
              " 'beta2',\n",
              " 'betelblast',\n",
              " 'beverages',\n",
              " 'bhajia',\n",
              " 'bhallapapdi',\n",
              " 'bhallapapri',\n",
              " 'bhapadoi',\n",
              " 'bhapailish',\n",
              " 'bharwatandoorialoo',\n",
              " 'bhatikamurg',\n",
              " 'bhattichicken',\n",
              " 'bhattikapaneer',\n",
              " 'bhattimurg',\n",
              " 'bhejafry',\n",
              " 'bhelpuri',\n",
              " 'bhetkipaturi',\n",
              " 'bhikajicamaplace',\n",
              " 'bhindifry',\n",
              " 'bhindikurkure',\n",
              " 'bhindimasala',\n",
              " 'bhojpurithali',\n",
              " 'bhunachaapmasala',\n",
              " 'bhunaghost',\n",
              " 'bhunamaans',\n",
              " 'bibimbap',\n",
              " 'bihari',\n",
              " 'bingsu',\n",
              " 'birthdaycakes',\n",
              " 'birthdays',\n",
              " 'biryani',\n",
              " 'biryanicombomeal',\n",
              " 'biryanikabadshah',\n",
              " 'biscuitsandgravy',\n",
              " 'blackberrymojito',\n",
              " 'blackforestpastry',\n",
              " 'blackpepperchickentikka',\n",
              " 'blackpepperpaneer',\n",
              " 'blendedcoldcoffee',\n",
              " 'bloodymary',\n",
              " 'bltsandwich',\n",
              " 'blueberryblast',\n",
              " 'blueberrycheesecake',\n",
              " 'blueberrycooler',\n",
              " 'blueberryicecream',\n",
              " 'blueberrymilkshake',\n",
              " 'blueberrymojito',\n",
              " 'blueberrymousse',\n",
              " 'blueberrypastry',\n",
              " 'blueberrypie',\n",
              " 'blueberryshake',\n",
              " 'blueberrytart',\n",
              " 'blueberryyogurt',\n",
              " 'blueoceanmocktail',\n",
              " 'boiledeggs',\n",
              " 'bombatdosa',\n",
              " 'bombaystreetfood',\n",
              " 'bommidayalapulusu',\n",
              " 'bonelesschicken',\n",
              " 'bonelessmuttonbiriyani',\n",
              " 'booking',\n",
              " 'bookshelf',\n",
              " 'boondiraita',\n",
              " 'boozyshake',\n",
              " 'botichicken',\n",
              " 'botitikka',\n",
              " 'bottomlessbrunch',\n",
              " 'brahmaputrashoppingcomplex',\n",
              " 'brainmasala',\n",
              " 'braisedpork',\n",
              " 'breadpakora',\n",
              " 'breadplatter',\n",
              " 'breadroll',\n",
              " 'breads',\n",
              " 'breadwiches',\n",
              " 'breakfast',\n",
              " 'breakfastoptions',\n",
              " 'breakfastthali',\n",
              " 'brewedbeer',\n",
              " 'brewedcoffee',\n",
              " 'brewedwheatbeer',\n",
              " 'breweedbeer',\n",
              " 'brinjalfry',\n",
              " 'british',\n",
              " 'briyani',\n",
              " 'brownie',\n",
              " 'browniecake',\n",
              " 'browniefudgefantasy',\n",
              " 'browniefudgesundae',\n",
              " 'brownienutellawaffles',\n",
              " 'brownies',\n",
              " 'browniesizzler',\n",
              " 'browniesunday',\n",
              " 'browniewaffle',\n",
              " 'brownrice',\n",
              " 'bruschetta',\n",
              " 'bubblegumicecream',\n",
              " 'bubblegumshake',\n",
              " 'bubbletea',\n",
              " 'budgetfood',\n",
              " 'buffalochickenwings',\n",
              " 'buffet',\n",
              " 'bulletchicken',\n",
              " 'bulletpaneer',\n",
              " 'bunmaskas',\n",
              " 'buntikki',\n",
              " 'burger',\n",
              " 'burgers',\n",
              " 'burgersamosa',\n",
              " 'burmese',\n",
              " 'burmesechickencurry',\n",
              " 'burmesekhowsuey',\n",
              " 'burrito',\n",
              " 'butterchaap',\n",
              " 'butterchicken',\n",
              " 'butterchickenandnaan',\n",
              " 'butterchickenpizza',\n",
              " 'butterchickenroti',\n",
              " 'butterfish',\n",
              " 'butterflychicken',\n",
              " 'buttergarlicnoodles',\n",
              " 'buttergarlicprawns',\n",
              " 'butterkulcha',\n",
              " 'buttermaggi',\n",
              " 'buttermilkpancakes',\n",
              " 'butternaan',\n",
              " 'butternoodles',\n",
              " 'butterpaneer',\n",
              " 'butterpaneermasala',\n",
              " 'butterpopcorn',\n",
              " 'butterroti',\n",
              " 'butterscotchcake',\n",
              " 'butterscotchpastry',\n",
              " 'buttertandoorichicken',\n",
              " 'butterychicken',\n",
              " 'bytimesnightoutguide',\n",
              " 'cafe',\n",
              " 'cajunpasta',\n",
              " 'cajunpotatoes',\n",
              " 'cake',\n",
              " 'cakeinajar',\n",
              " 'cakerusk',\n",
              " 'cakes',\n",
              " 'calamari',\n",
              " 'calamarifritters',\n",
              " 'california',\n",
              " 'californiachicken',\n",
              " 'californiaroll',\n",
              " 'callustoknowmore',\n",
              " 'calm',\n",
              " 'candrinkbuffetwithunlimitedrefillsatgrappabar',\n",
              " 'cantonese',\n",
              " 'cantonesechillichicken',\n",
              " 'capacity150',\n",
              " 'cappuccino',\n",
              " 'cappuccinocoffee',\n",
              " 'cappuccinofrappe',\n",
              " 'capsicumpizza',\n",
              " 'caramelcinnabon',\n",
              " 'caramelcoffee',\n",
              " 'carameldonut',\n",
              " 'caramelfrappe',\n",
              " 'caramelfrappucino',\n",
              " 'caramelfudge',\n",
              " 'caramelmacchiato',\n",
              " 'caramelmochasundae',\n",
              " 'caramelshake',\n",
              " 'cardamomtea',\n",
              " 'carnivoreplatter',\n",
              " 'carrotcake',\n",
              " 'carrotcinnamon',\n",
              " 'carrotjuice',\n",
              " 'cashewbaklava',\n",
              " 'cashlesspayments',\n",
              " 'casualseatingarea',\n",
              " 'celebratetheartofcocktailmaking',\n",
              " 'centralarcade',\n",
              " 'centralmarket',\n",
              " 'centralplazamall',\n",
              " 'chaai',\n",
              " 'chaap',\n",
              " 'chaapbuttermasala',\n",
              " 'chaaptikka',\n",
              " 'chaat',\n",
              " 'chaatpapdi',\n",
              " 'chai',\n",
              " 'chair',\n",
              " 'champagali',\n",
              " 'champaranstylemutton',\n",
              " 'chanabhatura',\n",
              " 'chanadaal',\n",
              " 'chanakyamall',\n",
              " 'chanakyapuri',\n",
              " 'chanamasala',\n",
              " 'chanasamosa',\n",
              " 'chandernagar',\n",
              " 'chandnichowk',\n",
              " 'changezichicken',\n",
              " 'charmwoodvillage',\n",
              " 'charsiubao',\n",
              " 'chatpatachaats',\n",
              " 'chawribazar',\n",
              " 'cheerfulstaff',\n",
              " 'cheeseballs',\n",
              " 'cheesebomb',\n",
              " 'cheeseburger',\n",
              " 'cheeseburst',\n",
              " 'cheesecake',\n",
              " 'cheesecakeicecream',\n",
              " 'cheesecakes',\n",
              " 'cheesecakeshake',\n",
              " 'cheesechickenomelette',\n",
              " 'cheesecigars',\n",
              " 'cheesecornballs',\n",
              " 'cheesecorndosa',\n",
              " 'cheesecornnuggets',\n",
              " 'cheesecroissant',\n",
              " 'cheesedip',\n",
              " 'cheesefrenchfries',\n",
              " 'cheesefries',\n",
              " 'cheesegarlicbread',\n",
              " 'cheesekulcha',\n",
              " 'cheeselesspizza',\n",
              " 'cheesenaan',\n",
              " 'cheesepizza',\n",
              " 'cheesepoppers',\n",
              " 'cheeseroll',\n",
              " 'cheeserolls',\n",
              " 'cheesesandwich',\n",
              " 'cheesesouffle',\n",
              " 'cheesespringroll',\n",
              " 'cheesetart',\n",
              " 'cheesetomato',\n",
              " 'cheeseuttapam',\n",
              " 'cheesevadapao',\n",
              " 'cheesevegburger',\n",
              " 'cheesiestpizza',\n",
              " 'cheesyfries',\n",
              " 'cheesygarlicbread',\n",
              " 'cheesymaggi',\n",
              " 'cheesypuffygarlicbread',\n",
              " 'chef',\n",
              " 'chermoulachicken',\n",
              " 'chettinad',\n",
              " 'chettinadchicken',\n",
              " 'chettinadcurry',\n",
              " 'chettinadgravy',\n",
              " 'chettinadidli',\n",
              " 'chhatarpur',\n",
              " 'chi4',\n",
              " 'chicken',\n",
              " 'chicken65',\n",
              " 'chickenafghani',\n",
              " 'chickenalakeiv',\n",
              " 'chickenalakiev',\n",
              " 'chickenaniseed',\n",
              " 'chickenbbqwings',\n",
              " 'chickenbharta',\n",
              " 'chickenbhunaroll',\n",
              " 'chickenbihari',\n",
              " 'chickenbiriyani',\n",
              " 'chickenbiryani',\n",
              " 'chickenbreastsandwich',\n",
              " 'chickenburger',\n",
              " 'chickenburra',\n",
              " 'chickenburrah',\n",
              " 'chickenbuttermasala',\n",
              " 'chickencaesar',\n",
              " 'chickencannelloni',\n",
              " 'chickenchettinadu',\n",
              " 'chickenchilli',\n",
              " 'chickenchips',\n",
              " 'chickenchowmein',\n",
              " 'chickenclubsandwiches',\n",
              " 'chickencrispburger',\n",
              " 'chickencroquettes',\n",
              " 'chickencrostini',\n",
              " 'chickencurry',\n",
              " 'chickencurryhomestyle',\n",
              " 'chickencurryrice',\n",
              " 'chickencutlets',\n",
              " 'chickendhaniyaadraki',\n",
              " 'chickendimsums',\n",
              " 'chickendonerplatter',\n",
              " 'chickendosa',\n",
              " 'chickendoubledecker',\n",
              " 'chickendrumsticks',\n",
              " 'chickendryfry',\n",
              " 'chickendumbiryani',\n",
              " 'chickenespetada',\n",
              " 'chickenfriedmomos',\n",
              " 'chickenfriedrice',\n",
              " 'chickenfry',\n",
              " 'chickengarlicbread',\n",
              " 'chickengheeroast',\n",
              " 'chickengrilledsandwich',\n",
              " 'chickengyoza',\n",
              " 'chickengyro',\n",
              " 'chickenhakkanoodles',\n",
              " 'chickenham',\n",
              " 'chickenhandi',\n",
              " 'chickenhandikorma',\n",
              " 'chickenhoney',\n",
              " 'chickenhydrabadibiryani',\n",
              " 'chickenjahangir',\n",
              " 'chickenjahangiri',\n",
              " 'chickenjalandhari',\n",
              " 'chickenjuicyburger',\n",
              " 'chickenkabab',\n",
              " 'chickenkalmi',\n",
              " 'chickenkanti',\n",
              " 'chickenkebab',\n",
              " 'chickenkeema',\n",
              " 'chickenkeemamasala',\n",
              " 'chickenkhurchan',\n",
              " 'chickenkofta',\n",
              " 'chickenkolhapuri',\n",
              " 'chickenkorma',\n",
              " 'chickenkulcha',\n",
              " 'chickenlababdar',\n",
              " 'chickenlapeta',\n",
              " 'chickenlasagna',\n",
              " 'chickenlegfry',\n",
              " 'chickenliverfry',\n",
              " 'chickenlollipop',\n",
              " 'chickenlollipops',\n",
              " 'chickenlollypop',\n",
              " 'chickenmakhani',\n",
              " 'chickenmalaitikka',\n",
              " 'chickenmanchowsoup',\n",
              " 'chickenmanchurian',\n",
              " 'chickenmandi',\n",
              " 'chickenmasala',\n",
              " 'chickenmasalamomo',\n",
              " 'chickenmeal',\n",
              " 'chickenmeatballs',\n",
              " 'chickenmokthuk',\n",
              " 'chickenmomo',\n",
              " 'chickenmomos',\n",
              " 'chickennasigoreng',\n",
              " 'chickennihari',\n",
              " 'chickennuggets',\n",
              " 'chickenoverloadpizza',\n",
              " 'chickenpakora',\n",
              " 'chickenpanini',\n",
              " 'chickenparmigiana',\n",
              " 'chickenpasanda',\n",
              " 'chickenperiperifries',\n",
              " 'chickenpestopasta',\n",
              " 'chickenpestosandwich',\n",
              " 'chickenpicatta',\n",
              " 'chickenpizza',\n",
              " 'chickenplatter',\n",
              " 'chickenpopcorn',\n",
              " 'chickenpoppers',\n",
              " 'chickenpoutine',\n",
              " 'chickenquarterpounderburger',\n",
              " 'chickenquesadilla',\n",
              " 'chickenrara',\n",
              " 'chickenraramasala',\n",
              " 'chickenrezala',\n",
              " 'chickenroast',\n",
              " 'chickenroll',\n",
              " 'chickensaag',\n",
              " 'chickensaagwala',\n",
              " 'chickensalamipizza',\n",
              " 'chickensalamisandwich',\n",
              " 'chickensandwich',\n",
              " 'chickensandwiches',\n",
              " 'chickensausages',\n",
              " 'chickenschnitzel',\n",
              " 'chickenseekh',\n",
              " 'chickenseekhmasala',\n",
              " 'chickenshawarama',\n",
              " 'chickenshawarma',\n",
              " 'chickenshumai',\n",
              " 'chickenshyapta',\n",
              " 'chickenslider',\n",
              " 'chickensliders',\n",
              " 'chickensoup',\n",
              " 'chickenspringroll',\n",
              " 'chickensteak',\n",
              " 'chickensteamedmomos',\n",
              " 'chickenstrip',\n",
              " 'chickenstrips',\n",
              " 'chickenstroganoff',\n",
              " 'chickenstuffing',\n",
              " 'chickensub',\n",
              " 'chickensuimaidimsum',\n",
              " 'chickensupremeburger',\n",
              " 'chickensushi',\n",
              " 'chickentandoori',\n",
              " 'chickentangdi',\n",
              " 'chickentangri',\n",
              " 'chickentangrikebab',\n",
              " 'chickentarts',\n",
              " 'chickentempura',\n",
              " 'chickentenders',\n",
              " 'chickenthaicurry',\n",
              " 'chickenthali',\n",
              " 'chickentikka',\n",
              " 'chickentikkabiryani',\n",
              " 'chickentikkafry',\n",
              " 'chickentikkamasala',\n",
              " 'chickentikkamasalaburger',\n",
              " 'chickentikkapizza',\n",
              " 'chickentikkasandwich',\n",
              " 'chickentikkawaffle',\n",
              " 'chickentikkimasala',\n",
              " 'chickentriangles',\n",
              " 'chickenvarattiyathu',\n",
              " 'chickenwarhadi',\n",
              " 'chickenwings',\n",
              " 'chickenwrap',\n",
              " 'chickenxacuti',\n",
              " 'chickenyakitori',\n",
              " 'chiffoncake',\n",
              " 'chillibowl',\n",
              " 'chillichicken',\n",
              " 'chillichickencroissant',\n",
              " 'chillichickendry',\n",
              " 'chillichickenwing',\n",
              " 'chillicorn',\n",
              " 'chilligarlicbread',\n",
              " 'chilligarlicchowmein',\n",
              " 'chilligarliccrispychicken',\n",
              " 'chilligarlicnoodles',\n",
              " 'chilligarlicprawn',\n",
              " 'chilliicecream',\n",
              " 'chillimomo',\n",
              " 'chillimushroom',\n",
              " 'chillipaneer',\n",
              " 'chillipaneerdosa',\n",
              " 'chillipaneerdry',\n",
              " 'chillipaneergravy',\n",
              " 'chillipotato',\n",
              " 'chillipotatoes',\n",
              " 'chillipotatopops',\n",
              " 'chilliprawns',\n",
              " 'chillychaap',\n",
              " 'chillychicken',\n",
              " 'chillygarlicnoodles',\n",
              " 'chillypaneer',\n",
              " 'chillypaneersizzler',\n",
              " 'chillypotato',\n",
              " 'chinese',\n",
              " 'chinesedecorandgoodchinesedelicaciesfromtheirdimsumstokungpaochickentodrychillychicken',\n",
              " 'chinesefood',\n",
              " 'chineseplatter',\n",
              " 'chinesespringrolls',\n",
              " 'chinesezodiac',\n",
              " 'chingripulao',\n",
              " 'chipotlechicken',\n",
              " 'chipotlepizza',\n",
              " 'chips',\n",
              " 'chirpycrowd',\n",
              " 'chittaranjanpark',\n",
              " 'chocoalmond',\n",
              " 'chocoball',\n",
              " 'chocobite',\n",
              " 'chocobomb',\n",
              " 'chocobrownie',\n",
              " 'chococaramel',\n",
              " 'chocochipcake',\n",
              " 'chocochipcookies',\n",
              " 'chocochippastry',\n",
              " 'chococrunch',\n",
              " 'chocofudge',\n",
              " 'chocofudgebrownie',\n",
              " 'chocohazelnut',\n",
              " 'chocolate',\n",
              " 'chocolatealmond',\n",
              " 'chocolateball',\n",
              " 'chocolatebao',\n",
              " 'chocolatebouquet',\n",
              " 'chocolatebrowine',\n",
              " 'chocolatebrowniesizzler',\n",
              " 'chocolateburger',\n",
              " 'chocolatecake',\n",
              " 'chocolatecaramel',\n",
              " 'chocolatechipwaffle',\n",
              " 'chocolatechunkcookie',\n",
              " 'chocolatecoffee',\n",
              " 'chocolatecookies',\n",
              " 'chocolatecreamroll',\n",
              " 'chocolatecroissant',\n",
              " 'chocolatecrunchcake',\n",
              " 'chocolatedecadence',\n",
              " 'chocolatedesire',\n",
              " 'chocolatedessert',\n",
              " 'chocolatedome',\n",
              " 'chocolatedosa',\n",
              " 'chocolatedream',\n",
              " 'chocolateeclairs',\n",
              " 'chocolateevasion',\n",
              " 'chocolateexplosion',\n",
              " 'chocolatefantasy',\n",
              " 'chocolatefrosting',\n",
              " 'chocolatefudge',\n",
              " 'chocolatefudgebrownie',\n",
              " 'chocolatefudgecake',\n",
              " 'chocolateganache',\n",
              " 'chocolatehazelnutcake',\n",
              " 'chocolateicecreamshake',\n",
              " 'chocolatelasagne',\n",
              " 'chocolatelava',\n",
              " 'chocolatelavacake',\n",
              " 'chocolatelollipop',\n",
              " 'chocolatemarblecake',\n",
              " 'chocolatemilk',\n",
              " 'chocolatemilkshake',\n",
              " 'chocolatemoneybag',\n",
              " 'chocolatemousse',\n",
              " 'chocolatemudpastry',\n",
              " 'chocolatemuffin',\n",
              " 'chocolatenutella',\n",
              " 'chocolateorange',\n",
              " 'chocolateoverdose',\n",
              " 'chocolateoverload',\n",
              " 'chocolatepan',\n",
              " 'chocolatepancakes',\n",
              " 'chocolatepie',\n",
              " 'chocolatepudding',\n",
              " 'chocolatepyramidpastry',\n",
              " 'chocolateroll',\n",
              " 'chocolateshake',\n",
              " 'chocolatesilk',\n",
              " 'chocolatesouffle',\n",
              " 'chocolatetapas',\n",
              " 'chocolatetorte',\n",
              " 'chocolatetruffle',\n",
              " 'chocolatetrufflecake',\n",
              " 'chocolatetrufflepastry',\n",
              " 'chocolatetruffleroyale',\n",
              " 'chocolatevilla',\n",
              " 'chocolatewaffle',\n",
              " 'chocolateyogurt',\n",
              " 'chocolava',\n",
              " 'chocolavacake',\n",
              " 'chocomilkshake',\n",
              " 'chocomud',\n",
              " 'chocotruffle',\n",
              " 'chocotrufflecake',\n",
              " 'chocovanillacake',\n",
              " 'chocowaffle',\n",
              " 'chocowalnutbrownie',\n",
              " 'chocowalnutcake',\n",
              " 'cholabhatura',\n",
              " 'chole',\n",
              " 'cholebhatoorey',\n",
              " 'cholebhature',\n",
              " 'cholepoori',\n",
              " 'cholerice',\n",
              " 'chollebhature',\n",
              " 'chopsuey',\n",
              " 'chowmein',\n",
              " 'churchurnaanthali',\n",
              " 'churchurparatha',\n",
              " 'churma',\n",
              " 'churros',\n",
              " 'churrosundae',\n",
              " 'chutney',\n",
              " 'chutneys',\n",
              " 'ciabattasandwich',\n",
              " 'cigarroll',\n",
              " 'citycentremall',\n",
              " 'civillines',\n",
              " 'clarenshotel',\n",
              " 'classicburger',\n",
              " 'classicchickenburger',\n",
              " 'classicchickenshawarma',\n",
              " 'classicchickensteak',\n",
              " 'classicchillipaneer',\n",
              " 'classichotchocolate',\n",
              " 'classicmargheritapizza',\n",
              " 'classicmartini',\n",
              " 'classicvegburger',\n",
              " 'classyambience',\n",
              " 'classydecor',\n",
              " 'classyplace',\n",
              " 'cleanandhygienicplace',\n",
              " 'cleanliness',\n",
              " 'clearbroth',\n",
              " 'clearwontonsoup',\n",
              " 'cocktail',\n",
              " 'cocktailpasta',\n",
              " 'cocktails',\n",
              " 'coconutcurrychicken',\n",
              " 'coconutmilkdessert',\n",
              " 'coconutmocha',\n",
              " 'coconutrabdi',\n",
              " 'coconutshake',\n",
              " 'coffee',\n",
              " 'coffeeanddoughnuts',\n",
              " 'coffeebar',\n",
              " 'coffeefrappe',\n",
              " 'coffeehazelnut',\n",
              " 'coffeelatte',\n",
              " 'coffees',\n",
              " 'coktails',\n",
              " 'coldcoffee',\n",
              " 'coldcoffeeshake',\n",
              " 'coleslawsandwich',\n",
              " 'colourfulanimethemeandanassortmentofjapanesedelicacies',\n",
              " 'colourfulmacroons',\n",
              " 'colourfulpackaging',\n",
              " 'combo',\n",
              " 'comfortableseating',\n",
              " 'comfortableseatingarea',\n",
              " 'comfortfood',\n",
              " 'comfortingatmosphere',\n",
              " 'communitycentre',\n",
              " 'conacoffee',\n",
              " 'concept',\n",
              " 'connaughtplace',\n",
              " 'contactlessdelivery',\n",
              " 'continental',\n",
              " 'continentalbreakfast',\n",
              " 'cookedincopperutensils',\n",
              " 'cookie',\n",
              " 'cookiebrownie',\n",
              " 'cookiecartwheel',\n",
              " 'cookies',\n",
              " 'cookiesandmore',\n",
              " 'coolambience',\n",
              " 'coolplace',\n",
              " 'cooperativestaff',\n",
              " 'cordialstaff',\n",
              " 'corn',\n",
              " 'cornbhel',\n",
              " 'corncheesenuggets',\n",
              " 'cornchips',\n",
              " 'corncurd',\n",
              " 'corncurry',\n",
              " 'cornfedchicken',\n",
              " 'cornfry',\n",
              " 'cornpoppers',\n",
              " 'cornsalad',\n",
              " 'cornsandwich',\n",
              " 'corporateparties',\n",
              " 'cosyplace',\n",
              " 'cottagecheesefingers',\n",
              " 'cottagecheesepasta',\n",
              " 'countryinn',\n",
              " 'couplefriendly',\n",
              " 'courteousservice',\n",
              " 'courteousstaff',\n",
              " 'courteousstaffandservice',\n",
              " 'courtyardbymarriott',\n",
              " 'couscoussalad',\n",
              " 'cozy',\n",
              " 'cozyambiance',\n",
              " 'cozyplace',\n",
              " 'crab',\n",
              " 'crabbutter',\n",
              " 'crabcakes',\n",
              " 'craftbeer',\n",
              " 'creampasta',\n",
              " 'creamshake',\n",
              " 'creamychickenlollipops',\n",
              " 'creamymushroom',\n",
              " 'creamytomatosoup',\n",
              " 'crepe',\n",
              " 'crepes',\n",
              " 'crescentsquaremall',\n",
              " 'crispychicken',\n",
              " 'crispychickenroll',\n",
              " 'crispychillicorn',\n",
              " 'crispychillipotatoes',\n",
              " 'crispycorn',\n",
              " 'crispycornbasket',\n",
              " 'crispycorncakes',\n",
              " 'crispyhoneychillipotato',\n",
              " 'crispyhoneypotatoes',\n",
              " 'crispyjalebi',\n",
              " 'crispylamb',\n",
              " 'crispylotusstem',\n",
              " 'crispymomos',\n",
              " 'crispynaan',\n",
              " 'crispynoodle',\n",
              " 'crispyparatha',\n",
              " 'crispypotatowedges',\n",
              " 'crispyvegetables',\n",
              " 'crispywaterchestnut',\n",
              " 'croissant',\n",
              " 'croquemonsieur',\n",
              " 'crossingrepublik',\n",
              " 'crosspointmall',\n",
              " 'crossrivermall',\n",
              " 'crowd',\n",
              " 'crowneplaza',\n",
              " 'crowneplazahotel',\n",
              " 'crowninteriorzmall',\n",
              " 'crownplazamall',\n",
              " 'crunchychocolate',\n",
              " 'crunchyroll',\n",
              " 'cupcakes',\n",
              " ...]"
            ]
          },
          "metadata": {},
          "execution_count": 30
        }
      ]
    },
    {
      "cell_type": "code",
      "metadata": {
        "id": "f7nThrdtOuBI"
      },
      "source": [
        "from sklearn.metrics.pairwise import cosine_similarity"
      ],
      "execution_count": 31,
      "outputs": []
    },
    {
      "cell_type": "code",
      "metadata": {
        "id": "kfn-ppToOwqN"
      },
      "source": [
        "similar = cosine_similarity(vectors)"
      ],
      "execution_count": 32,
      "outputs": []
    },
    {
      "cell_type": "code",
      "metadata": {
        "colab": {
          "base_uri": "https://localhost:8080/"
        },
        "id": "UOTVZukiO1er",
        "outputId": "59428716-61ca-4da8-f117-2a6c3541bcb7"
      },
      "source": [
        "similar[0]"
      ],
      "execution_count": 33,
      "outputs": [
        {
          "output_type": "execute_result",
          "data": {
            "text/plain": [
              "array([1.        , 0.32732684, 0.35856858, ..., 0.21821789, 0.27500955,\n",
              "       0.11396058])"
            ]
          },
          "metadata": {},
          "execution_count": 33
        }
      ]
    },
    {
      "cell_type": "code",
      "metadata": {
        "id": "PKfFIezvOhp2"
      },
      "source": [
        "k = rest1['Known_For2']"
      ],
      "execution_count": 34,
      "outputs": []
    },
    {
      "cell_type": "code",
      "metadata": {
        "id": "cE41VoEVOpzq"
      },
      "source": [
        "restaurant_index = df[df['rest_name'] == \"Cafe Lota\"].index[0]"
      ],
      "execution_count": 35,
      "outputs": []
    },
    {
      "cell_type": "code",
      "metadata": {
        "id": "NOTPOjpnNTsn"
      },
      "source": [
        "details = k[restaurant_index]"
      ],
      "execution_count": 36,
      "outputs": []
    },
    {
      "cell_type": "code",
      "metadata": {
        "colab": {
          "base_uri": "https://localhost:8080/"
        },
        "id": "ASahfoQTOuUY",
        "outputId": "ffdff636-fe67-4af3-cd49-dd4d46f26df7"
      },
      "source": [
        "print(details)"
      ],
      "execution_count": 37,
      "outputs": [
        {
          "output_type": "stream",
          "name": "stdout",
          "text": [
            "Pondicherry Fish Curry, Coconut Rabdi, Sabudana Pop Corn, Chicken Pasanda, Majestic Chicken, Bhapa Doi\n"
          ]
        }
      ]
    },
    {
      "cell_type": "code",
      "metadata": {
        "colab": {
          "base_uri": "https://localhost:8080/"
        },
        "id": "6tCXNwGjPLaf",
        "outputId": "2873dec9-b935-4ec8-f178-e64f1d32a9c9"
      },
      "source": [
        "restaurant_index = df[df['rest_name'] == \"Rustom's\"].index[0]\n",
        "distances = similar[restaurant_index]\n",
        "rest_list = sorted(list(enumerate(distances)), reverse=True,key=lambda x:x[1])[1:6]\n",
        "for rest in rest_list:\n",
        "  print(rest1.iloc[rest[0]].Category)"
      ],
      "execution_count": 38,
      "outputs": [
        {
          "output_type": "stream",
          "name": "stdout",
          "text": [
            "Parsi, North Indian, Rolls, Street Food, Desserts, Beverages\n",
            "North Indian, Street Food, Chinese, Mughlai, Desserts, Beverages\n",
            "North Indian, Italian, Street Food, Fast Food, Desserts, Beverages\n",
            "North Indian, Street Food, Fast Food, Chinese, Desserts, Beverages\n",
            "Street Food, Fast Food, Chinese, North Indian, Desserts, Beverages\n"
          ]
        }
      ]
    },
    {
      "cell_type": "code",
      "metadata": {
        "colab": {
          "base_uri": "https://localhost:8080/",
          "height": 202
        },
        "id": "w7nPRrTXP7JF",
        "outputId": "c7335fb7-5729-4901-f5e6-10cc7f101c8f"
      },
      "source": [
        "rest1.head()"
      ],
      "execution_count": 39,
      "outputs": [
        {
          "output_type": "execute_result",
          "data": {
            "text/html": [
              "<div>\n",
              "<style scoped>\n",
              "    .dataframe tbody tr th:only-of-type {\n",
              "        vertical-align: middle;\n",
              "    }\n",
              "\n",
              "    .dataframe tbody tr th {\n",
              "        vertical-align: top;\n",
              "    }\n",
              "\n",
              "    .dataframe thead th {\n",
              "        text-align: right;\n",
              "    }\n",
              "</style>\n",
              "<table border=\"1\" class=\"dataframe\">\n",
              "  <thead>\n",
              "    <tr style=\"text-align: right;\">\n",
              "      <th></th>\n",
              "      <th>Restaurant_Name</th>\n",
              "      <th>Category</th>\n",
              "      <th>Locality</th>\n",
              "      <th>Known_For2</th>\n",
              "      <th>Id</th>\n",
              "    </tr>\n",
              "  </thead>\n",
              "  <tbody>\n",
              "    <tr>\n",
              "      <th>0</th>\n",
              "      <td>Rustom's</td>\n",
              "      <td>Parsi, Street Food, North Indian, Desserts, Be...</td>\n",
              "      <td>ITO, New Delhi</td>\n",
              "      <td></td>\n",
              "      <td>1</td>\n",
              "    </tr>\n",
              "    <tr>\n",
              "      <th>1</th>\n",
              "      <td>Cafe Lota</td>\n",
              "      <td>Cafe, South Indian, North Indian, Beverages</td>\n",
              "      <td>Pragati Maidan, New Delhi</td>\n",
              "      <td>Pondicherry Fish Curry, Coconut Rabdi, Sabudan...</td>\n",
              "      <td>2</td>\n",
              "    </tr>\n",
              "    <tr>\n",
              "      <th>2</th>\n",
              "      <td>Dum-Pukht - ITC Maurya</td>\n",
              "      <td>Mughlai, North Indian, Desserts</td>\n",
              "      <td>ITC Maurya, Chanakyapuri, New Delhi</td>\n",
              "      <td>Royal ambiance and Mughlai cuisine, also recei...</td>\n",
              "      <td>3</td>\n",
              "    </tr>\n",
              "    <tr>\n",
              "      <th>3</th>\n",
              "      <td>Burma Burma</td>\n",
              "      <td>Asian, Burmese, Bubble Tea, Desserts, Salad</td>\n",
              "      <td>Cyber Hub, DLF Cyber City, Gurgaon</td>\n",
              "      <td>Coconut Milk Dessert, Honey Caviar, Kaffir Lim...</td>\n",
              "      <td>4</td>\n",
              "    </tr>\n",
              "    <tr>\n",
              "      <th>4</th>\n",
              "      <td>The Big Chill</td>\n",
              "      <td>Continental, American, Italian</td>\n",
              "      <td>Khan Market, New Delhi</td>\n",
              "      <td>Irish Cream Tiramisu, Penne Vodka, Mississippi...</td>\n",
              "      <td>5</td>\n",
              "    </tr>\n",
              "  </tbody>\n",
              "</table>\n",
              "</div>"
            ],
            "text/plain": [
              "          Restaurant_Name  ... Id\n",
              "0                Rustom's  ...  1\n",
              "1               Cafe Lota  ...  2\n",
              "2  Dum-Pukht - ITC Maurya  ...  3\n",
              "3             Burma Burma  ...  4\n",
              "4           The Big Chill  ...  5\n",
              "\n",
              "[5 rows x 5 columns]"
            ]
          },
          "metadata": {},
          "execution_count": 39
        }
      ]
    },
    {
      "cell_type": "code",
      "metadata": {
        "id": "qfUhgObMO_s7"
      },
      "source": [
        "def recommend(restaurant):\n",
        "  restaurant_index = df[df['rest_name'] == restaurant].index[0]\n",
        "  distances = similar[restaurant_index]\n",
        "  rest_list = sorted(list(enumerate(distances)), reverse=True,key=lambda x:x[1])[1:6]\n",
        "  for i in rest_list:\n",
        "    print(df.iloc[i[0]].rest_name)"
      ],
      "execution_count": 40,
      "outputs": []
    },
    {
      "cell_type": "code",
      "metadata": {
        "id": "ehbZAHH0M8hD"
      },
      "source": [
        "def get_details(restaurant):\n",
        "  restaurant_index = df[df['rest_name'] == restaurant].index[0]\n",
        "  distances = similar[restaurant_index]\n",
        "  rest_list = sorted(list(enumerate(distances)), reverse=True,key=lambda x:x[1])[1:6]\n",
        "  cat_list = []\n",
        "  for rest in rest_list:\n",
        "    cat_list.append(rest1.iloc[rest[0]].Category)\n",
        "  return cat_list\n"
      ],
      "execution_count": 41,
      "outputs": []
    },
    {
      "cell_type": "code",
      "metadata": {
        "id": "LmNmGtJGSiaN"
      },
      "source": [
        "pd.DataFrame.to_csv(rest1,'rest1.csv')"
      ],
      "execution_count": 42,
      "outputs": []
    },
    {
      "cell_type": "code",
      "metadata": {
        "colab": {
          "base_uri": "https://localhost:8080/"
        },
        "id": "2zNyT7kxRQ4J",
        "outputId": "b3cf8d4d-daf5-4ad9-f05c-105f9f02cf28"
      },
      "source": [
        "get_details(\"Rustom's\")"
      ],
      "execution_count": 43,
      "outputs": [
        {
          "output_type": "execute_result",
          "data": {
            "text/plain": [
              "['Parsi, North Indian, Rolls, Street Food, Desserts, Beverages',\n",
              " 'North Indian, Street Food, Chinese, Mughlai, Desserts, Beverages',\n",
              " 'North Indian, Italian, Street Food, Fast Food, Desserts, Beverages',\n",
              " 'North Indian, Street Food, Fast Food, Chinese, Desserts, Beverages',\n",
              " 'Street Food, Fast Food, Chinese, North Indian, Desserts, Beverages']"
            ]
          },
          "metadata": {},
          "execution_count": 43
        }
      ]
    },
    {
      "cell_type": "code",
      "metadata": {
        "id": "EZ35CEUtPmP6",
        "colab": {
          "base_uri": "https://localhost:8080/",
          "height": 202
        },
        "outputId": "69a09cc4-6df8-4a0e-9202-9664eca5929f"
      },
      "source": [
        "df.head()"
      ],
      "execution_count": 44,
      "outputs": [
        {
          "output_type": "execute_result",
          "data": {
            "text/html": [
              "<div>\n",
              "<style scoped>\n",
              "    .dataframe tbody tr th:only-of-type {\n",
              "        vertical-align: middle;\n",
              "    }\n",
              "\n",
              "    .dataframe tbody tr th {\n",
              "        vertical-align: top;\n",
              "    }\n",
              "\n",
              "    .dataframe thead th {\n",
              "        text-align: right;\n",
              "    }\n",
              "</style>\n",
              "<table border=\"1\" class=\"dataframe\">\n",
              "  <thead>\n",
              "    <tr style=\"text-align: right;\">\n",
              "      <th></th>\n",
              "      <th>Id</th>\n",
              "      <th>rest_name</th>\n",
              "      <th>Tag</th>\n",
              "    </tr>\n",
              "  </thead>\n",
              "  <tbody>\n",
              "    <tr>\n",
              "      <th>0</th>\n",
              "      <td>1</td>\n",
              "      <td>Rustom's</td>\n",
              "      <td>parsi streetfood northindian desserts beverag...</td>\n",
              "    </tr>\n",
              "    <tr>\n",
              "      <th>1</th>\n",
              "      <td>2</td>\n",
              "      <td>Cafe Lota</td>\n",
              "      <td>pondicherryfishcurry coconutrabdi sabudanapopc...</td>\n",
              "    </tr>\n",
              "    <tr>\n",
              "      <th>2</th>\n",
              "      <td>3</td>\n",
              "      <td>Dum-Pukht - ITC Maurya</td>\n",
              "      <td>royalambianceandmughlaicuisine alsoreceivedthe...</td>\n",
              "    </tr>\n",
              "    <tr>\n",
              "      <th>3</th>\n",
              "      <td>4</td>\n",
              "      <td>Burma Burma</td>\n",
              "      <td>coconutmilkdessert honeycaviar kaffirlimecoole...</td>\n",
              "    </tr>\n",
              "    <tr>\n",
              "      <th>4</th>\n",
              "      <td>5</td>\n",
              "      <td>The Big Chill</td>\n",
              "      <td>irishcreamtiramisu pennevodka mississippimudpi...</td>\n",
              "    </tr>\n",
              "  </tbody>\n",
              "</table>\n",
              "</div>"
            ],
            "text/plain": [
              "   Id  ...                                                Tag\n",
              "0   1  ...   parsi streetfood northindian desserts beverag...\n",
              "1   2  ...  pondicherryfishcurry coconutrabdi sabudanapopc...\n",
              "2   3  ...  royalambianceandmughlaicuisine alsoreceivedthe...\n",
              "3   4  ...  coconutmilkdessert honeycaviar kaffirlimecoole...\n",
              "4   5  ...  irishcreamtiramisu pennevodka mississippimudpi...\n",
              "\n",
              "[5 rows x 3 columns]"
            ]
          },
          "metadata": {},
          "execution_count": 44
        }
      ]
    },
    {
      "cell_type": "code",
      "metadata": {
        "colab": {
          "base_uri": "https://localhost:8080/"
        },
        "id": "3vXDjfhvO5CQ",
        "outputId": "1f6f8cb6-6672-4c9a-c929-c110f914c004"
      },
      "source": [
        "recommend(\"Paparizza-Woodfired Pizzas\")"
      ],
      "execution_count": 45,
      "outputs": [
        {
          "output_type": "stream",
          "name": "stdout",
          "text": [
            "Big Yellow Door\n",
            "Sambookas\n",
            "D Streat Cafe\n",
            "Shake Eat Up\n",
            "Play Pizza\n"
          ]
        }
      ]
    },
    {
      "cell_type": "code",
      "metadata": {
        "id": "ioKpdapYvoYT"
      },
      "source": [
        "from sklearn.feature_extraction.text import TfidfVectorizer\n",
        "tfv = TfidfVectorizer(min_df = 4, max_features=None,\n",
        "                      strip_accents='unicode',analyzer='word',token_pattern='(?u)\\\\b\\\\w+\\\\b',\n",
        "                      ngram_range=(1,3),\n",
        "                      stop_words = 'english')"
      ],
      "execution_count": 46,
      "outputs": []
    },
    {
      "cell_type": "code",
      "metadata": {
        "id": "nh5gn2nbvt6B"
      },
      "source": [
        "tfv_matrix = tfv.fit_transform(df['Tag'])"
      ],
      "execution_count": 47,
      "outputs": []
    },
    {
      "cell_type": "code",
      "metadata": {
        "id": "bAYH6PUyxFHD",
        "colab": {
          "base_uri": "https://localhost:8080/"
        },
        "outputId": "5ae2cab6-ec86-4551-bfc3-0fd5bc3d0e25"
      },
      "source": [
        "tfv_matrix"
      ],
      "execution_count": 48,
      "outputs": [
        {
          "output_type": "execute_result",
          "data": {
            "text/plain": [
              "<1965x1784 sparse matrix of type '<class 'numpy.float64'>'\n",
              "\twith 27374 stored elements in Compressed Sparse Row format>"
            ]
          },
          "metadata": {},
          "execution_count": 48
        }
      ]
    },
    {
      "cell_type": "code",
      "metadata": {
        "id": "IsbF_oxV0hnK",
        "colab": {
          "base_uri": "https://localhost:8080/"
        },
        "outputId": "a1c06ce7-055b-44a8-bc3f-711e07cc3b03"
      },
      "source": [
        "tfv_matrix.shape"
      ],
      "execution_count": 49,
      "outputs": [
        {
          "output_type": "execute_result",
          "data": {
            "text/plain": [
              "(1965, 1784)"
            ]
          },
          "metadata": {},
          "execution_count": 49
        }
      ]
    },
    {
      "cell_type": "code",
      "metadata": {
        "id": "YhGGerlMxHHt"
      },
      "source": [
        "from sklearn.metrics.pairwise import sigmoid_kernel\n",
        "sig = sigmoid_kernel(tfv_matrix, tfv_matrix)"
      ],
      "execution_count": 50,
      "outputs": []
    },
    {
      "cell_type": "code",
      "metadata": {
        "id": "unu-VATfxMNt"
      },
      "source": [
        "indices = pd.Series(df.index, index=df['rest_name'])"
      ],
      "execution_count": 51,
      "outputs": []
    },
    {
      "cell_type": "code",
      "metadata": {
        "id": "OWr7zokIxZ0E",
        "colab": {
          "base_uri": "https://localhost:8080/"
        },
        "outputId": "fa469ec6-281b-4195-ec38-48c5bb1672b4"
      },
      "source": [
        "indices"
      ],
      "execution_count": 52,
      "outputs": [
        {
          "output_type": "execute_result",
          "data": {
            "text/plain": [
              "rest_name\n",
              "Rustom's                     0\n",
              "Cafe Lota                    1\n",
              "Dum-Pukht - ITC Maurya       2\n",
              "Burma Burma                  3\n",
              "The Big Chill                4\n",
              "                          ... \n",
              "Bablu Chic-Inn            1960\n",
              "Kovilakam                 1961\n",
              "Krips Restaurant          1962\n",
              "Cafe 147                  1963\n",
              "Pizzasia                  1964\n",
              "Length: 1965, dtype: int64"
            ]
          },
          "metadata": {},
          "execution_count": 52
        }
      ]
    },
    {
      "cell_type": "code",
      "metadata": {
        "id": "SG3DrbAixclX"
      },
      "source": [
        "def give_rec(restaurant, sig=sig):\n",
        "    idx = indices[restaurant]\n",
        "    sig_scores = list(enumerate(sig[idx]))\n",
        "    sig_scores = sorted(sig_scores, key=lambda x: x[1], reverse=True)\n",
        "    sig_scores = sig_scores[1:11]\n",
        "    rest_indices = [i[0] for i in sig_scores]\n",
        "    return rest['Restaurant_Name'].iloc[rest_indices]"
      ],
      "execution_count": 53,
      "outputs": []
    },
    {
      "cell_type": "code",
      "metadata": {
        "id": "YQpkgo0CHk-a"
      },
      "source": [
        "pd.DataFrame.to_csv(df,'df.csv')"
      ],
      "execution_count": 55,
      "outputs": []
    },
    {
      "cell_type": "code",
      "metadata": {
        "id": "aQvLNwvyJS9Q"
      },
      "source": [
        "import pickle"
      ],
      "execution_count": 56,
      "outputs": []
    },
    {
      "cell_type": "code",
      "metadata": {
        "id": "IiWdxAXvJOyO"
      },
      "source": [
        "pickle.dump(similar, open('similar.pkl','wb'))"
      ],
      "execution_count": 57,
      "outputs": []
    }
  ]
}
